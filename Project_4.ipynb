{
  "cells": [
    {
      "cell_type": "markdown",
      "metadata": {
        "id": "view-in-github",
        "colab_type": "text"
      },
      "source": [
        "<a href=\"https://colab.research.google.com/github/Alex86Mart/MAG_86/blob/main/Project_4.ipynb\" target=\"_parent\"><img src=\"https://colab.research.google.com/assets/colab-badge.svg\" alt=\"Open In Colab\"/></a>"
      ]
    },
    {
      "cell_type": "markdown",
      "metadata": {
        "id": "UL3xyqxVRhMi"
      },
      "source": [
        "PROJECT_4"
      ]
    },
    {
      "cell_type": "markdown",
      "metadata": {
        "id": "zFDC8xdIRhMj"
      },
      "source": [
        "ЦЕЛЬ\n",
        "\n",
        "Подготовить основу рекомендательной системы."
      ]
    },
    {
      "cell_type": "markdown",
      "metadata": {
        "id": "QHsuIDkxRhMk"
      },
      "source": [
        "ФОРМАЛИЗОВАННЫЕ ЗАДАЧИ\n",
        "\n",
        "1. Познакомиться с датасетом, подготовить и проанализировать данные с помощью SQL.\n",
        "2. Обработать данные средствами Python.\n",
        "3. Составить итоговую таблицу с рекомендациями, снабдив её необходимыми комментариями, и представить отчёт продакт-менеджеру.\n",
        "4. Проанализировать результаты A/B-теста, проведённого после внедрения фичи, и сделать вывод."
      ]
    },
    {
      "cell_type": "markdown",
      "metadata": {
        "id": "umHXNl2IRhMl"
      },
      "source": [
        "SQL ЗАПРОС\n",
        "\n",
        "WITH users_WITH_courses AS\n",
        "     (SELECT\n",
        "         DISTINCT user_id,\n",
        "         COUNT(DISTINCT resource_id) cnt_courses\n",
        "     FROM  final.carts c  \n",
        "         JOIN final.cart_items ci ON c.id = ci.cart_id\n",
        "         WHERE  resource_type = 'Course' AND state = 'successful'\n",
        "     GROUP BY 1\n",
        "     HAVING COUNT (DISTINCT resource_id) > 1)\n",
        "     SELECT  \n",
        "         DISTINCT users_WITH_courses.user_id,\n",
        "         resource_id\n",
        "     FROM  final.carts c\n",
        "         JOIN final.cart_items ci ON ci.cart_id = c.id\n",
        "         INNER JOIN users_WITH_courses ON c.user_id = users_WITH_courses.user_id\n",
        "         WHERE  resource_type = 'Course' AND state = 'successful'\n",
        "     ORDER BY 1,2\n",
        "\n"
      ]
    },
    {
      "cell_type": "code",
      "execution_count": null,
      "metadata": {
        "id": "A6hgws5HRhMl"
      },
      "outputs": [],
      "source": [
        "# Импорт библиотек\n",
        "import pandas as pd\n",
        "import numpy as np\n",
        "from matplotlib import pyplot as plt\n",
        "from itertools import combinations\n",
        "from collections import Counter"
      ]
    },
    {
      "cell_type": "code",
      "execution_count": null,
      "metadata": {
        "id": "heThy8EORhMm",
        "outputId": "508bc467-7a2a-4e36-8dd4-0dbf348e1e6b"
      },
      "outputs": [
        {
          "name": "stdout",
          "output_type": "stream",
          "text": [
            "<class 'pandas.core.frame.DataFrame'>\n",
            "RangeIndex: 34074 entries, 0 to 34073\n",
            "Data columns (total 2 columns):\n",
            " #   Column       Non-Null Count  Dtype\n",
            "---  ------       --------------  -----\n",
            " 0   user_id      34074 non-null  int64\n",
            " 1   resource_id  34074 non-null  int64\n",
            "dtypes: int64(2)\n",
            "memory usage: 532.5 KB\n"
          ]
        }
      ],
      "source": [
        "# Загрузка и преобразование в датафрейм итогового запроса в SQL\n",
        "df = pd.read_csv('data/query_result_2024-05-20.csv', sep = ',')\n",
        "# Получение информацию о файле\n",
        "df.info()"
      ]
    },
    {
      "cell_type": "code",
      "execution_count": null,
      "metadata": {
        "id": "T25CYeh-RhMn",
        "outputId": "0b624185-f196-4869-a4ef-2e81d39508d6"
      },
      "outputs": [
        {
          "data": {
            "text/html": [
              "<div>\n",
              "<style scoped>\n",
              "    .dataframe tbody tr th:only-of-type {\n",
              "        vertical-align: middle;\n",
              "    }\n",
              "\n",
              "    .dataframe tbody tr th {\n",
              "        vertical-align: top;\n",
              "    }\n",
              "\n",
              "    .dataframe thead th {\n",
              "        text-align: right;\n",
              "    }\n",
              "</style>\n",
              "<table border=\"1\" class=\"dataframe\">\n",
              "  <thead>\n",
              "    <tr style=\"text-align: right;\">\n",
              "      <th></th>\n",
              "      <th>user_id</th>\n",
              "      <th>resource_id</th>\n",
              "    </tr>\n",
              "  </thead>\n",
              "  <tbody>\n",
              "    <tr>\n",
              "      <th>0</th>\n",
              "      <td>51</td>\n",
              "      <td>516</td>\n",
              "    </tr>\n",
              "    <tr>\n",
              "      <th>1</th>\n",
              "      <td>51</td>\n",
              "      <td>1099</td>\n",
              "    </tr>\n",
              "    <tr>\n",
              "      <th>2</th>\n",
              "      <td>6117</td>\n",
              "      <td>356</td>\n",
              "    </tr>\n",
              "    <tr>\n",
              "      <th>3</th>\n",
              "      <td>6117</td>\n",
              "      <td>357</td>\n",
              "    </tr>\n",
              "    <tr>\n",
              "      <th>4</th>\n",
              "      <td>6117</td>\n",
              "      <td>1125</td>\n",
              "    </tr>\n",
              "    <tr>\n",
              "      <th>5</th>\n",
              "      <td>10275</td>\n",
              "      <td>553</td>\n",
              "    </tr>\n",
              "    <tr>\n",
              "      <th>6</th>\n",
              "      <td>10275</td>\n",
              "      <td>1147</td>\n",
              "    </tr>\n",
              "    <tr>\n",
              "      <th>7</th>\n",
              "      <td>10457</td>\n",
              "      <td>361</td>\n",
              "    </tr>\n",
              "    <tr>\n",
              "      <th>8</th>\n",
              "      <td>10457</td>\n",
              "      <td>1138</td>\n",
              "    </tr>\n",
              "    <tr>\n",
              "      <th>9</th>\n",
              "      <td>17166</td>\n",
              "      <td>356</td>\n",
              "    </tr>\n",
              "  </tbody>\n",
              "</table>\n",
              "</div>"
            ],
            "text/plain": [
              "   user_id  resource_id\n",
              "0       51          516\n",
              "1       51         1099\n",
              "2     6117          356\n",
              "3     6117          357\n",
              "4     6117         1125\n",
              "5    10275          553\n",
              "6    10275         1147\n",
              "7    10457          361\n",
              "8    10457         1138\n",
              "9    17166          356"
            ]
          },
          "execution_count": 96,
          "metadata": {},
          "output_type": "execute_result"
        }
      ],
      "source": [
        "# Выведем десять первых строк, чтобы познакомиться с данными\n",
        "df.head(10)"
      ]
    },
    {
      "cell_type": "code",
      "execution_count": null,
      "metadata": {
        "id": "kfoLfhZ9RhMn",
        "outputId": "d95f72f1-3112-4dac-f799-c44e0e1e62a3"
      },
      "outputs": [
        {
          "name": "stdout",
          "output_type": "stream",
          "text": [
            "Всего в покупка клиентов: 3989 вариантов пар\n"
          ]
        }
      ],
      "source": [
        "# Определяем все варианты пар курсов в покупках клиентов\n",
        "pair = df.groupby('user_id')['resource_id'].apply(lambda x: list(np.unique(x))).reset_index()\n",
        "pairs = pd.DataFrame(pair['resource_id'].apply(lambda x: list(combinations(x, 2))))\n",
        "pairs_list = pairs['resource_id'].to_list()\n",
        "list_pair = []\n",
        "for item in pairs_list:\n",
        "    for i in item:\n",
        "        list_pair.append(i)\n",
        "set_pair = set(list_pair)\n",
        "len(set_pair)\n",
        "print(f\"Всего в покупка клиентов: {len(set_pair)} вариантов пар\")"
      ]
    },
    {
      "cell_type": "code",
      "execution_count": null,
      "metadata": {
        "id": "_zW-y2X7RhMn",
        "outputId": "e0e6873d-2f00-4d7b-c654-b8772dbcd817"
      },
      "outputs": [
        {
          "data": {
            "text/plain": [
              "[((551, 566), 797)]"
            ]
          },
          "execution_count": 98,
          "metadata": {},
          "output_type": "execute_result"
        }
      ],
      "source": [
        "# Определяем самую популярную пару курсов в покупках клиентов\n",
        "count_pair = Counter(list_pair)\n",
        "count_pair.most_common(1)"
      ]
    },
    {
      "cell_type": "code",
      "execution_count": null,
      "metadata": {
        "id": "5LNDWc4eRhMn",
        "outputId": "3a3dbc71-b05f-43db-b1e8-bfa06245ac28"
      },
      "outputs": [
        {
          "data": {
            "text/html": [
              "<div>\n",
              "<style scoped>\n",
              "    .dataframe tbody tr th:only-of-type {\n",
              "        vertical-align: middle;\n",
              "    }\n",
              "\n",
              "    .dataframe tbody tr th {\n",
              "        vertical-align: top;\n",
              "    }\n",
              "\n",
              "    .dataframe thead th {\n",
              "        text-align: right;\n",
              "    }\n",
              "</style>\n",
              "<table border=\"1\" class=\"dataframe\">\n",
              "  <thead>\n",
              "    <tr style=\"text-align: right;\">\n",
              "      <th></th>\n",
              "      <th>count</th>\n",
              "    </tr>\n",
              "  </thead>\n",
              "  <tbody>\n",
              "    <tr>\n",
              "      <th>count</th>\n",
              "      <td>3989.0</td>\n",
              "    </tr>\n",
              "    <tr>\n",
              "      <th>mean</th>\n",
              "      <td>10.0</td>\n",
              "    </tr>\n",
              "    <tr>\n",
              "      <th>std</th>\n",
              "      <td>26.0</td>\n",
              "    </tr>\n",
              "    <tr>\n",
              "      <th>min</th>\n",
              "      <td>1.0</td>\n",
              "    </tr>\n",
              "    <tr>\n",
              "      <th>25%</th>\n",
              "      <td>1.0</td>\n",
              "    </tr>\n",
              "    <tr>\n",
              "      <th>50%</th>\n",
              "      <td>3.0</td>\n",
              "    </tr>\n",
              "    <tr>\n",
              "      <th>75%</th>\n",
              "      <td>9.0</td>\n",
              "    </tr>\n",
              "    <tr>\n",
              "      <th>max</th>\n",
              "      <td>797.0</td>\n",
              "    </tr>\n",
              "  </tbody>\n",
              "</table>\n",
              "</div>"
            ],
            "text/plain": [
              "        count\n",
              "count  3989.0\n",
              "mean     10.0\n",
              "std      26.0\n",
              "min       1.0\n",
              "25%       1.0\n",
              "50%       3.0\n",
              "75%       9.0\n",
              "max     797.0"
            ]
          },
          "execution_count": 99,
          "metadata": {},
          "output_type": "execute_result"
        }
      ],
      "source": [
        "# Преобразуем счётчик пар курсо в датафрейм для получения статистических данных\n",
        "df_count_pair = pd.DataFrame.from_dict(count_pair, orient= 'index').reset_index()\n",
        "df_count_pair = df_count_pair.rename(columns = {'index':'pair', 0: 'count'})\n",
        "df_count_pair = df_count_pair.sort_values(by = 'count', ascending=False).reset_index(drop=True)\n",
        "df_count_pair.describe().round()"
      ]
    },
    {
      "cell_type": "markdown",
      "metadata": {
        "id": "rnhLnNbgRhMo"
      },
      "source": [
        "МИНИМАЛЬНАЯ ГРАНИЦА ДЛЯ РЕКОМИДАЦИИ КУРСОВ\n",
        "\n",
        "В качестве минимальной границы при определении популярности пар курсов возьмём данные выше третьего квартиля. Выборка останется достаточно большой, при этом из рекомендаций исключим редко встречающиеся пары курсов."
      ]
    },
    {
      "cell_type": "code",
      "execution_count": null,
      "metadata": {
        "id": "u-kyA0KWRhMo",
        "outputId": "4cf5a797-fd8b-46c4-c082-ec3b61a08c8a"
      },
      "outputs": [
        {
          "data": {
            "text/html": [
              "<div>\n",
              "<style scoped>\n",
              "    .dataframe tbody tr th:only-of-type {\n",
              "        vertical-align: middle;\n",
              "    }\n",
              "\n",
              "    .dataframe tbody tr th {\n",
              "        vertical-align: top;\n",
              "    }\n",
              "\n",
              "    .dataframe thead th {\n",
              "        text-align: right;\n",
              "    }\n",
              "</style>\n",
              "<table border=\"1\" class=\"dataframe\">\n",
              "  <thead>\n",
              "    <tr style=\"text-align: right;\">\n",
              "      <th></th>\n",
              "      <th>pair</th>\n",
              "      <th>count</th>\n",
              "    </tr>\n",
              "  </thead>\n",
              "  <tbody>\n",
              "    <tr>\n",
              "      <th>0</th>\n",
              "      <td>(551, 566)</td>\n",
              "      <td>797</td>\n",
              "    </tr>\n",
              "    <tr>\n",
              "      <th>1</th>\n",
              "      <td>(515, 551)</td>\n",
              "      <td>417</td>\n",
              "    </tr>\n",
              "    <tr>\n",
              "      <th>2</th>\n",
              "      <td>(489, 551)</td>\n",
              "      <td>311</td>\n",
              "    </tr>\n",
              "    <tr>\n",
              "      <th>3</th>\n",
              "      <td>(523, 551)</td>\n",
              "      <td>304</td>\n",
              "    </tr>\n",
              "    <tr>\n",
              "      <th>4</th>\n",
              "      <td>(566, 794)</td>\n",
              "      <td>290</td>\n",
              "    </tr>\n",
              "    <tr>\n",
              "      <th>5</th>\n",
              "      <td>(489, 515)</td>\n",
              "      <td>286</td>\n",
              "    </tr>\n",
              "    <tr>\n",
              "      <th>6</th>\n",
              "      <td>(490, 566)</td>\n",
              "      <td>253</td>\n",
              "    </tr>\n",
              "    <tr>\n",
              "      <th>7</th>\n",
              "      <td>(490, 551)</td>\n",
              "      <td>247</td>\n",
              "    </tr>\n",
              "    <tr>\n",
              "      <th>8</th>\n",
              "      <td>(570, 752)</td>\n",
              "      <td>247</td>\n",
              "    </tr>\n",
              "    <tr>\n",
              "      <th>9</th>\n",
              "      <td>(569, 572)</td>\n",
              "      <td>216</td>\n",
              "    </tr>\n",
              "  </tbody>\n",
              "</table>\n",
              "</div>"
            ],
            "text/plain": [
              "         pair  count\n",
              "0  (551, 566)    797\n",
              "1  (515, 551)    417\n",
              "2  (489, 551)    311\n",
              "3  (523, 551)    304\n",
              "4  (566, 794)    290\n",
              "5  (489, 515)    286\n",
              "6  (490, 566)    253\n",
              "7  (490, 551)    247\n",
              "8  (570, 752)    247\n",
              "9  (569, 572)    216"
            ]
          },
          "execution_count": 113,
          "metadata": {},
          "output_type": "execute_result"
        }
      ],
      "source": [
        "# Датафрейм десяти популярных пар курсов\n",
        "df_count_pair_popular = df_count_pair[df_count_pair['count']>9]\n",
        "df_count_pair_popular.head(10)"
      ]
    },
    {
      "cell_type": "code",
      "execution_count": null,
      "metadata": {
        "id": "wKE1zhZnRhMo",
        "outputId": "1d796c5f-1f72-411a-a7dd-9df40fed534f"
      },
      "outputs": [
        {
          "data": {
            "text/plain": [
              "Text(0.5, 1.0, 'Частота покупок для выборки среди пар курсов')"
            ]
          },
          "execution_count": 101,
          "metadata": {},
          "output_type": "execute_result"
        },
        {
          "data": {
            "image/png": "[encoded data removed]",
            "text/plain": [
              "<Figure size 1500x400 with 2 Axes>"
            ]
          },
          "metadata": {},
          "output_type": "display_data"
        }
      ],
      "source": [
        "# График частотности пар курсов в корзинахклиентов\n",
        "fig, axes = plt.subplots(nrows=1, ncols=2, figsize=(15, 4))\n",
        "axes[0].hist(x = df_count_pair['count'],bins=50)\n",
        "axes[1].hist(x = df_count_pair_popular['count'],bins=50)\n",
        "\n",
        "axes[0].grid(axis='y')\n",
        "axes[1].grid(axis='y')\n",
        "axes[0].set_title('Частота покупок курсов для полной выборки')\n",
        "axes[1].set_title('Частота покупок для выборки среди пар курсов')"
      ]
    },
    {
      "cell_type": "code",
      "execution_count": null,
      "metadata": {
        "id": "xS-qQlxJRhMp",
        "outputId": "a5e34f93-afb8-48af-d72a-79506553c84f"
      },
      "outputs": [
        {
          "data": {
            "text/plain": [
              "126"
            ]
          },
          "execution_count": 102,
          "metadata": {},
          "output_type": "execute_result"
        }
      ],
      "source": [
        "# Уникальные курсы в корзинах клиентов\n",
        "course_unique = df['resource_id'].sort_values().unique().tolist()\n",
        "len(course_unique)"
      ]
    },
    {
      "cell_type": "markdown",
      "metadata": {
        "id": "NjSq4ysjRhMp"
      },
      "source": [
        "ПРИМЕЧАНИЕ\n",
        "\n",
        "Количество уникальных курсов в нашей итоговой выборке 126, что отличается от обшего количества уникальных курсов(127), полученного на этапе сбора данных. Это связано с тем, что по ТЗ мы для рекомендаций используем только те курсы, которые были приобретены клиентами. На этапе сбора данных мы учитывали все курсы в корзине клиентов, в том числе и пока ещё не приобретённых. Для того, чтобы дать рекомендации всем курсам на платформе, выгрузим из SQL список ID 127 курсов.\n"
      ]
    },
    {
      "cell_type": "markdown",
      "metadata": {
        "id": "CNKpx77PRhMp"
      },
      "source": [
        "ЗАПРОС SQL\n",
        "\n",
        "SELECT DISTINCT resource_id\n",
        "FROM final.cart_items\n",
        "WHERE resource_type = 'Course'"
      ]
    },
    {
      "cell_type": "code",
      "execution_count": null,
      "metadata": {
        "id": "1R3zlzHtRhMp",
        "outputId": "92224965-2548-4c28-c0d6-0274f09825f1"
      },
      "outputs": [
        {
          "name": "stdout",
          "output_type": "stream",
          "text": [
            "<class 'pandas.core.frame.DataFrame'>\n",
            "RangeIndex: 127 entries, 0 to 126\n",
            "Data columns (total 1 columns):\n",
            " #   Column       Non-Null Count  Dtype\n",
            "---  ------       --------------  -----\n",
            " 0   resource_id  127 non-null    int64\n",
            "dtypes: int64(1)\n",
            "memory usage: 1.1 KB\n"
          ]
        }
      ],
      "source": [
        "# Загрузка и преобразование в датафрейм запроса в SQL\n",
        "courses = pd.read_csv('data/query_result_2024-05-26.csv', sep = ',')\n",
        "# Получение информацию о файле\n",
        "courses.info()"
      ]
    },
    {
      "cell_type": "code",
      "execution_count": null,
      "metadata": {
        "id": "BBGjm0g7RhMq",
        "outputId": "7aae11dd-3dfa-4af8-bfaf-8f50de2a957b"
      },
      "outputs": [
        {
          "data": {
            "text/plain": [
              "127"
            ]
          },
          "execution_count": 104,
          "metadata": {},
          "output_type": "execute_result"
        }
      ],
      "source": [
        "# Создание листа с уникальными id курсов\n",
        "courses_list = courses['resource_id'].sort_values().to_list()\n",
        "len(courses_list)"
      ]
    },
    {
      "cell_type": "code",
      "execution_count": null,
      "metadata": {
        "id": "ZYCMyKAdRhMq",
        "outputId": "d1225692-18fa-423d-cf48-b93f2b227428"
      },
      "outputs": [
        {
          "data": {
            "text/plain": [
              "[772]"
            ]
          },
          "execution_count": 105,
          "metadata": {},
          "output_type": "execute_result"
        }
      ],
      "source": [
        "# Определим id курса, ранее не приобретавшегося клиентами\n",
        "not_course = list(set(courses_list) - set(course_unique))\n",
        "not_course"
      ]
    },
    {
      "cell_type": "code",
      "execution_count": null,
      "metadata": {
        "id": "kbAkceoORhMq",
        "outputId": "654b0975-a9e5-4f65-b149-ef906bd7d00d"
      },
      "outputs": [
        {
          "data": {
            "text/plain": [
              "[551, 566]"
            ]
          },
          "execution_count": 106,
          "metadata": {},
          "output_type": "execute_result"
        }
      ],
      "source": [
        "# Создаём список из двух самых популярных курсов\n",
        "popular = pd.DataFrame(df.groupby('resource_id')['user_id'].count()).reset_index()\n",
        "popular = popular.sort_values(by='user_id',ascending=False).reset_index()\n",
        "popular_list = popular['resource_id'][:2].to_list()\n",
        "popular_list"
      ]
    },
    {
      "cell_type": "code",
      "execution_count": null,
      "metadata": {
        "id": "BDUETMmwRhMq",
        "outputId": "678f7e89-2bf5-4694-8353-f5b21b3213a1"
      },
      "outputs": [
        {
          "data": {
            "text/html": [
              "<div>\n",
              "<style scoped>\n",
              "    .dataframe tbody tr th:only-of-type {\n",
              "        vertical-align: middle;\n",
              "    }\n",
              "\n",
              "    .dataframe tbody tr th {\n",
              "        vertical-align: top;\n",
              "    }\n",
              "\n",
              "    .dataframe thead th {\n",
              "        text-align: right;\n",
              "    }\n",
              "</style>\n",
              "<table border=\"1\" class=\"dataframe\">\n",
              "  <thead>\n",
              "    <tr style=\"text-align: right;\">\n",
              "      <th></th>\n",
              "      <th>course</th>\n",
              "      <th>recom_1</th>\n",
              "      <th>recom_2</th>\n",
              "    </tr>\n",
              "  </thead>\n",
              "  <tbody>\n",
              "    <tr>\n",
              "      <th>0</th>\n",
              "      <td>772</td>\n",
              "      <td>551</td>\n",
              "      <td>566</td>\n",
              "    </tr>\n",
              "  </tbody>\n",
              "</table>\n",
              "</div>"
            ],
            "text/plain": [
              "   course  recom_1  recom_2\n",
              "0     772      551      566"
            ]
          },
          "execution_count": 107,
          "metadata": {},
          "output_type": "execute_result"
        }
      ],
      "source": [
        "# Создадим таблицу с рекоминдациями, куда добавим ранее неприобретаемый курс с рекомендациями самых популярных курсов\n",
        "data = {'course':[not_course[0]], 'recom_1':[popular_list[0]],'recom_2':[popular_list[1]]}\n",
        "df_recom = pd.DataFrame(data)\n",
        "df_recom"
      ]
    },
    {
      "cell_type": "code",
      "execution_count": null,
      "metadata": {
        "id": "4x6mo5z1RhMq",
        "outputId": "8221cd0e-f058-4b64-99bc-f15ae39ae1b4"
      },
      "outputs": [
        {
          "data": {
            "text/plain": [
              "[((490, 566), 253), ((490, 551), 247)]"
            ]
          },
          "execution_count": 108,
          "metadata": {},
          "output_type": "execute_result"
        }
      ],
      "source": [
        "# Функция рекоминдаций для курса по его id\n",
        "def recom(course):\n",
        "    rec_list = []\n",
        "    for i in count_pair.keys():\n",
        "        if i[0] == course:\n",
        "            rec_list.append((i, count_pair[i]))\n",
        "        if i[1] == course:\n",
        "            rec_list.append((i, count_pair[i]))\n",
        "    rec_list = sorted(rec_list, key=lambda x:x[1], reverse=True)\n",
        "    return rec_list[:2]\n",
        "recom(490)"
      ]
    },
    {
      "cell_type": "code",
      "execution_count": null,
      "metadata": {
        "id": "sL9AEnLSRhMq",
        "outputId": "ddcb6c9f-c1f0-4207-8c51-c7438e2a1e7f"
      },
      "outputs": [
        {
          "data": {
            "text/plain": [
              "9.0"
            ]
          },
          "execution_count": 109,
          "metadata": {},
          "output_type": "execute_result"
        }
      ],
      "source": [
        "# Установим лимит\n",
        "limit = np.percentile(df_count_pair['count'],75)\n",
        "limit"
      ]
    },
    {
      "cell_type": "code",
      "execution_count": null,
      "metadata": {
        "id": "2HbLx-vnRhMr",
        "outputId": "8e5b2e06-7085-48c1-9985-2c11191d90a4"
      },
      "outputs": [
        {
          "data": {
            "text/html": [
              "<div>\n",
              "<style scoped>\n",
              "    .dataframe tbody tr th:only-of-type {\n",
              "        vertical-align: middle;\n",
              "    }\n",
              "\n",
              "    .dataframe tbody tr th {\n",
              "        vertical-align: top;\n",
              "    }\n",
              "\n",
              "    .dataframe thead th {\n",
              "        text-align: right;\n",
              "    }\n",
              "</style>\n",
              "<table border=\"1\" class=\"dataframe\">\n",
              "  <thead>\n",
              "    <tr style=\"text-align: right;\">\n",
              "      <th></th>\n",
              "      <th>course</th>\n",
              "      <th>recom_1</th>\n",
              "      <th>recom_2</th>\n",
              "    </tr>\n",
              "  </thead>\n",
              "  <tbody>\n",
              "    <tr>\n",
              "      <th>0</th>\n",
              "      <td>772</td>\n",
              "      <td>551</td>\n",
              "      <td>566</td>\n",
              "    </tr>\n",
              "    <tr>\n",
              "      <th>1</th>\n",
              "      <td>356</td>\n",
              "      <td>571</td>\n",
              "      <td>566</td>\n",
              "    </tr>\n",
              "    <tr>\n",
              "      <th>2</th>\n",
              "      <td>357</td>\n",
              "      <td>571</td>\n",
              "      <td>566</td>\n",
              "    </tr>\n",
              "    <tr>\n",
              "      <th>3</th>\n",
              "      <td>358</td>\n",
              "      <td>570</td>\n",
              "      <td>566</td>\n",
              "    </tr>\n",
              "    <tr>\n",
              "      <th>4</th>\n",
              "      <td>359</td>\n",
              "      <td>570</td>\n",
              "      <td>566</td>\n",
              "    </tr>\n",
              "    <tr>\n",
              "      <th>...</th>\n",
              "      <td>...</td>\n",
              "      <td>...</td>\n",
              "      <td>...</td>\n",
              "    </tr>\n",
              "    <tr>\n",
              "      <th>122</th>\n",
              "      <td>1188</td>\n",
              "      <td>1141</td>\n",
              "      <td>566</td>\n",
              "    </tr>\n",
              "    <tr>\n",
              "      <th>123</th>\n",
              "      <td>1198</td>\n",
              "      <td>551</td>\n",
              "      <td>566</td>\n",
              "    </tr>\n",
              "    <tr>\n",
              "      <th>124</th>\n",
              "      <td>1199</td>\n",
              "      <td>551</td>\n",
              "      <td>566</td>\n",
              "    </tr>\n",
              "    <tr>\n",
              "      <th>125</th>\n",
              "      <td>1200</td>\n",
              "      <td>551</td>\n",
              "      <td>566</td>\n",
              "    </tr>\n",
              "    <tr>\n",
              "      <th>126</th>\n",
              "      <td>1201</td>\n",
              "      <td>551</td>\n",
              "      <td>566</td>\n",
              "    </tr>\n",
              "  </tbody>\n",
              "</table>\n",
              "<p>127 rows × 3 columns</p>\n",
              "</div>"
            ],
            "text/plain": [
              "     course  recom_1  recom_2\n",
              "0       772      551      566\n",
              "1       356      571      566\n",
              "2       357      571      566\n",
              "3       358      570      566\n",
              "4       359      570      566\n",
              "..      ...      ...      ...\n",
              "122    1188     1141      566\n",
              "123    1198      551      566\n",
              "124    1199      551      566\n",
              "125    1200      551      566\n",
              "126    1201      551      566\n",
              "\n",
              "[127 rows x 3 columns]"
            ]
          },
          "execution_count": 110,
          "metadata": {},
          "output_type": "execute_result"
        }
      ],
      "source": [
        "# Запоняем итоговую рекомендательную таблицу\n",
        "for i in course_unique:\n",
        "    course = i\n",
        "    if recom(i)[0][1] > limit:\n",
        "        if recom(i)[0][0][0] == course:\n",
        "            recom_1 = recom(i)[0][0][1]\n",
        "        else:\n",
        "            recom_1 = recom(i)[0][0][0]\n",
        "    elif recom(i)[1][1] > limit:\n",
        "        if recom(i)[1][0][0] == course:\n",
        "            recom_2 = recom(i)[1][0][1]\n",
        "        else:\n",
        "            recom_2 = recom(i)[1][0][0]\n",
        "    else:\n",
        "        recom_1 = popular_list[0]\n",
        "        recom_2 = popular_list[1]\n",
        "    df_2 = pd.DataFrame({'course':[course], 'recom_1':[recom_1], 'recom_2':[recom_2]})\n",
        "    df_recom = pd.concat([df_recom, df_2], ignore_index=True)\n",
        "df_recom"
      ]
    },
    {
      "cell_type": "code",
      "execution_count": null,
      "metadata": {
        "id": "5a-Hi8twRhMr",
        "outputId": "2b8f9990-1873-4113-b742-c9d1ead0943d"
      },
      "outputs": [
        {
          "name": "stdout",
          "output_type": "stream",
          "text": [
            "Самый популярный курс: 566\n",
            "Второй по популярности курс: 551\n"
          ]
        }
      ],
      "source": [
        "# Курсы для рекомендации(самый популярный и второй по популярности)\n",
        "recom = [((490, 566), 253), ((490, 551), 247)]\n",
        "print(f\"Самый популярный курс: {recom[0][0][1]}\")\n",
        "print(f\"Второй по популярности курс: {recom[1][0][1]}\")"
      ]
    },
    {
      "cell_type": "markdown",
      "metadata": {
        "id": "gl2xpZajRhMr"
      },
      "source": [
        "ВЫВОДЫ:\n",
        "\n",
        "Самый популярный курс на платформе с ID 566, данный курс встречается в корзинах покупателей 253 раза. Второй по популярности курс является с ID 551, он стречается в корзинах покупателей 247 раз."
      ]
    }
  ],
  "metadata": {
    "kernelspec": {
      "display_name": "Python 3",
      "language": "python",
      "name": "python3"
    },
    "language_info": {
      "codemirror_mode": {
        "name": "ipython",
        "version": 3
      },
      "file_extension": ".py",
      "mimetype": "text/x-python",
      "name": "python",
      "nbconvert_exporter": "python",
      "pygments_lexer": "ipython3",
      "version": "3.12.2"
    },
    "colab": {
      "provenance": [],
      "include_colab_link": true
    }
  },
  "nbformat": 4,
  "nbformat_minor": 0
}