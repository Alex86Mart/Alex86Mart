{
  "cells": [
    {
      "cell_type": "markdown",
      "metadata": {
        "id": "view-in-github",
        "colab_type": "text"
      },
      "source": [
        "<a href=\"https://colab.research.google.com/github/Alex86Mart/Alex86Mart/blob/main/Project_3.ipynb\" target=\"_parent\"><img src=\"https://colab.research.google.com/assets/colab-badge.svg\" alt=\"Open In Colab\"/></a>"
      ]
    },
    {
      "cell_type": "markdown",
      "metadata": {
        "id": "tvl09X4KleJG"
      },
      "source": [
        "# Цель исследования\n",
        "\n",
        "Исследовать поведение пользователей в обновлённом приложении\n",
        "\n",
        "ГИПОТЕЗА 1.\n",
        "\n",
        "По идее, должна быть разница в поведении групп, которые проходят и не проходят обучение. Но так ли это? Влияет ли обучение на скорость прохождения других этапов игры?\n",
        "\n",
        "ГИПОТЕЗА 2.\n",
        "\n",
        "Кажется, повторное прохождение обучения положительно влияет на оплату, верно?\n",
        "\n",
        "ГИПОТЕЗА 3.\n",
        "\n",
        "Если пользователь сначала выбирает сложность, будет ли он потом проходить обучение?\n",
        "\n",
        "**ЗАДАЧИ:**\n",
        "\n",
        "1.Определить, насколько обучение сокращает время прохождения этапов игры.\n",
        "\n",
        "2.Доказать, что успешное обучение само по себе влияет на оплату и не имеет значения то, каким этапом оно шло.\n",
        "\n",
        "3.Определить, насколько прозрачен процесс взаимодействия с игрой.\n",
        "\n",
        "**КОНКРЕТНЫЕ ШАГИ(ФОРМАЛИЗОВАННЫЕ ЗАДАЧИ):**\n",
        "\n",
        "1.Сравнить время прохождения различных этапов для пользователей, которые завершили обучение, и пользователей, не начинавших обучение. Если показатель отличается, выяснить, насколько.\n",
        "\n",
        "2.Проверить, существует ли зависимость между вероятностью оплаты вопросов и количеством обучений, которые начинал или завершал пользователь.\n",
        "\n",
        "3.Выяснить, как часто пользователи начинают обучение после выбора уровня сложности. Это позволит оценить прозрачность процесса взаимодействия с игрой: если пользователи после выбора уровня сложности обращаются к обучению, значит, работа с приложением непонятна."
      ]
    },
    {
      "cell_type": "markdown",
      "metadata": {
        "id": "pxUgskNXleJM"
      },
      "source": [
        "# Знакомство с данными"
      ]
    },
    {
      "cell_type": "code",
      "execution_count": null,
      "metadata": {
        "id": "MN0iBArYleJM"
      },
      "outputs": [],
      "source": [
        "# Импорт библиотеки pandas:\n",
        "import pandas as pd\n",
        "# Импортируем библиотеку matplotlib:\n",
        "import matplotlib.pyplot as plt\n",
        "%matplotlib inline"
      ]
    },
    {
      "cell_type": "code",
      "execution_count": null,
      "metadata": {
        "id": "C-rmiblGleJN",
        "outputId": "c7839e75-3ba9-4ad7-d3d8-6986b8173a00"
      },
      "outputs": [
        {
          "name": "stdout",
          "output_type": "stream",
          "text": [
            "            id       event_type selected_level           start_time  \\\n",
            "0        28903     registration            NaN  2016-05-11T23:40:55   \n",
            "1        28904     registration            NaN  2016-05-11T23:49:58   \n",
            "2        28905     registration            NaN  2016-05-12T00:53:07   \n",
            "3        28906   tutorial_start            NaN  2016-05-12T01:32:20   \n",
            "4        28907  tutorial_finish            NaN  2016-05-12T01:34:53   \n",
            "...        ...              ...            ...                  ...   \n",
            "252329  281232     level_choice           hard  2020-07-02T10:02:15   \n",
            "252330  281233     level_choice         medium  2020-07-02T11:38:52   \n",
            "252331  281234      pack_choice            NaN  2020-07-02T11:42:14   \n",
            "252332  281235   tutorial_start            NaN  2020-07-02T13:32:58   \n",
            "252333  281236  tutorial_finish            NaN  2020-07-02T13:36:36   \n",
            "\n",
            "        tutorial_id  user_id  \n",
            "0               NaN    12583  \n",
            "1               NaN    12584  \n",
            "2               NaN    12585  \n",
            "3           17562.0    12585  \n",
            "4           17562.0    12585  \n",
            "...             ...      ...  \n",
            "252329          NaN    87439  \n",
            "252330          NaN    87488  \n",
            "252331          NaN    87488  \n",
            "252332      86127.0    87464  \n",
            "252333      86127.0    87464  \n",
            "\n",
            "[252334 rows x 6 columns]\n"
          ]
        }
      ],
      "source": [
        "# Считываем файл 7_4_Events, знакомимся с данными\n",
        "events = pd.read_csv('data/7_4_Events.csv', sep = ',')\n",
        "print(events)"
      ]
    },
    {
      "cell_type": "code",
      "execution_count": null,
      "metadata": {
        "id": "_Lz8DhGaleJO",
        "outputId": "885e2d0f-dd68-47f5-8b88-258926c54a98"
      },
      "outputs": [
        {
          "name": "stdout",
          "output_type": "stream",
          "text": [
            "         id  user_id       event_datetime  amount\n",
            "0     15674    12584  2016-05-12T10:34:16     100\n",
            "1     15675    12985  2016-05-13T08:25:56      50\n",
            "2     15676    12828  2016-05-13T16:33:46      50\n",
            "3     15677    12598  2016-05-14T01:09:37     150\n",
            "4     15678    13037  2016-05-14T01:24:46     100\n",
            "...     ...      ...                  ...     ...\n",
            "5951  21625    87331  2020-07-06T09:02:07      50\n",
            "5952  21626    87418  2020-07-06T14:16:37     100\n",
            "5953  21627    87431  2020-07-06T22:48:59      50\n",
            "5954  21628    87363  2020-07-07T05:38:56     100\n",
            "5955  21629    87466  2020-07-08T01:59:21      50\n",
            "\n",
            "[5956 rows x 4 columns]\n"
          ]
        }
      ],
      "source": [
        "# Считываем файл 7_4_Purchase, знакомимся с данными\n",
        "purchase = pd.read_csv('data/7_4_Purchase.csv', sep=',')\n",
        "print(purchase)"
      ]
    },
    {
      "cell_type": "code",
      "execution_count": null,
      "metadata": {
        "id": "V25I_MX8leJP",
        "outputId": "181751ac-1ab9-4d4a-c63d-c30188626250"
      },
      "outputs": [
        {
          "name": "stdout",
          "output_type": "stream",
          "text": [
            "<class 'pandas.core.frame.DataFrame'>\n",
            "RangeIndex: 252334 entries, 0 to 252333\n",
            "Data columns (total 6 columns):\n",
            " #   Column          Non-Null Count   Dtype  \n",
            "---  ------          --------------   -----  \n",
            " 0   id              252334 non-null  int64  \n",
            " 1   event_type      252334 non-null  object \n",
            " 2   selected_level  31086 non-null   object \n",
            " 3   start_time      252334 non-null  object \n",
            " 4   tutorial_id     125103 non-null  float64\n",
            " 5   user_id         252334 non-null  int64  \n",
            "dtypes: float64(1), int64(2), object(3)\n",
            "memory usage: 11.6+ MB\n",
            "<class 'pandas.core.frame.DataFrame'>\n",
            "RangeIndex: 5956 entries, 0 to 5955\n",
            "Data columns (total 4 columns):\n",
            " #   Column          Non-Null Count  Dtype \n",
            "---  ------          --------------  ----- \n",
            " 0   id              5956 non-null   int64 \n",
            " 1   user_id         5956 non-null   int64 \n",
            " 2   event_datetime  5956 non-null   object\n",
            " 3   amount          5956 non-null   int64 \n",
            "dtypes: int64(3), object(1)\n",
            "memory usage: 186.3+ KB\n"
          ]
        }
      ],
      "source": [
        "# Проверяем данные(типы данных, наличие пропусков)\n",
        "events.info()\n",
        "\n",
        "purchase.info()"
      ]
    },
    {
      "cell_type": "code",
      "execution_count": null,
      "metadata": {
        "id": "qN60pkHcleJP"
      },
      "outputs": [],
      "source": [
        "# Чтобы всегда можно было свериться с исходными данными, будем работать с копиями\n",
        "events_df = events.copy()\n",
        "purchase_df = purchase.copy()"
      ]
    },
    {
      "cell_type": "markdown",
      "metadata": {
        "id": "v_yupk8UleJP"
      },
      "source": [
        "# Подготовка датафреймов к анализу"
      ]
    },
    {
      "cell_type": "code",
      "execution_count": null,
      "metadata": {
        "id": "iYTtzJVUleJQ"
      },
      "outputs": [],
      "source": [
        "# Отфильтровывать как строки\n",
        "cond = (events_df.start_time >='2018-01-01') & (events_df.start_time <'2018-12-31') & (events_df.event_type=='registration')\n",
        "\n",
        "# Составлять список user_id, удовлетворяющих условиям\n",
        "registered = events_df[cond]['user_id'].to_list()\n",
        "\n",
        "# Отфильтровать датасет по списку\n",
        "events_df = events_df[events_df.user_id.isin(registered)]\n",
        "\n",
        "# Перевести дату в формат datetime\n",
        "events_df.start_time = pd.to_datetime(events_df.start_time, format='%Y-%m-%dT%H:%M:%S')\n",
        "\n",
        "# Добавим в датафрейм purchase_df столбец event_type, который будет содержать одно значение purchase.\n",
        "# Это нужно, чтобы в объединённом датафрейме однозначно выделить события оплаты.\n",
        "purchase_df['event_type'] = 'purchase'\n",
        "\n",
        "# Обработаем этот датафрейм так же, как и предыдущий\n",
        "purchase_df = purchase_df[purchase_df.user_id.isin(registered)]\n",
        "purchase_df.event_datetime = pd.to_datetime(purchase_df.event_datetime, format='%Y-%m-%dT%H:%M:%S')\n",
        "\n",
        "# У нас есть одинаковые столбцы id в двух датафреймах, но столбец id в events_df указывает на идентификатор события,\n",
        "# а столбец id в purchase_df — на идентификатор оплаты.\n",
        "# Поэтому применим функцию rename(), чтобы переименовать столбцы в датафреймах.\n",
        "events_df = events_df.rename(columns={'id':'event_id'})\n",
        "purchase_df = purchase_df.rename(columns={'id':'purchase_id'})\n",
        "purchase_df = purchase_df.rename(columns={'event_datetime':'start_time'})"
      ]
    },
    {
      "cell_type": "code",
      "execution_count": null,
      "metadata": {
        "id": "bLcf_fWdleJQ",
        "outputId": "a923b76a-bc58-4d52-9e0b-34d42fa12039"
      },
      "outputs": [
        {
          "data": {
            "text/html": [
              "<div>\n",
              "<style scoped>\n",
              "    .dataframe tbody tr th:only-of-type {\n",
              "        vertical-align: middle;\n",
              "    }\n",
              "\n",
              "    .dataframe tbody tr th {\n",
              "        vertical-align: top;\n",
              "    }\n",
              "\n",
              "    .dataframe thead th {\n",
              "        text-align: right;\n",
              "    }\n",
              "</style>\n",
              "<table border=\"1\" class=\"dataframe\">\n",
              "  <thead>\n",
              "    <tr style=\"text-align: right;\">\n",
              "      <th></th>\n",
              "      <th>event_id</th>\n",
              "      <th>event_type</th>\n",
              "      <th>selected_level</th>\n",
              "      <th>start_time</th>\n",
              "      <th>tutorial_id</th>\n",
              "      <th>user_id</th>\n",
              "      <th>purchase_id</th>\n",
              "      <th>amount</th>\n",
              "    </tr>\n",
              "  </thead>\n",
              "  <tbody>\n",
              "    <tr>\n",
              "      <th>0</th>\n",
              "      <td>80308.0</td>\n",
              "      <td>registration</td>\n",
              "      <td>NaN</td>\n",
              "      <td>2018-01-01 03:48:40</td>\n",
              "      <td>NaN</td>\n",
              "      <td>27832</td>\n",
              "      <td>NaN</td>\n",
              "      <td>NaN</td>\n",
              "    </tr>\n",
              "    <tr>\n",
              "      <th>1</th>\n",
              "      <td>80309.0</td>\n",
              "      <td>registration</td>\n",
              "      <td>NaN</td>\n",
              "      <td>2018-01-01 04:07:25</td>\n",
              "      <td>NaN</td>\n",
              "      <td>27833</td>\n",
              "      <td>NaN</td>\n",
              "      <td>NaN</td>\n",
              "    </tr>\n",
              "    <tr>\n",
              "      <th>2</th>\n",
              "      <td>80310.0</td>\n",
              "      <td>registration</td>\n",
              "      <td>NaN</td>\n",
              "      <td>2018-01-01 08:35:10</td>\n",
              "      <td>NaN</td>\n",
              "      <td>27834</td>\n",
              "      <td>NaN</td>\n",
              "      <td>NaN</td>\n",
              "    </tr>\n",
              "    <tr>\n",
              "      <th>3</th>\n",
              "      <td>80311.0</td>\n",
              "      <td>registration</td>\n",
              "      <td>NaN</td>\n",
              "      <td>2018-01-01 11:54:47</td>\n",
              "      <td>NaN</td>\n",
              "      <td>27835</td>\n",
              "      <td>NaN</td>\n",
              "      <td>NaN</td>\n",
              "    </tr>\n",
              "    <tr>\n",
              "      <th>4</th>\n",
              "      <td>80312.0</td>\n",
              "      <td>registration</td>\n",
              "      <td>NaN</td>\n",
              "      <td>2018-01-01 13:28:07</td>\n",
              "      <td>NaN</td>\n",
              "      <td>27836</td>\n",
              "      <td>NaN</td>\n",
              "      <td>NaN</td>\n",
              "    </tr>\n",
              "  </tbody>\n",
              "</table>\n",
              "</div>"
            ],
            "text/plain": [
              "   event_id    event_type selected_level          start_time  tutorial_id  \\\n",
              "0   80308.0  registration            NaN 2018-01-01 03:48:40          NaN   \n",
              "1   80309.0  registration            NaN 2018-01-01 04:07:25          NaN   \n",
              "2   80310.0  registration            NaN 2018-01-01 08:35:10          NaN   \n",
              "3   80311.0  registration            NaN 2018-01-01 11:54:47          NaN   \n",
              "4   80312.0  registration            NaN 2018-01-01 13:28:07          NaN   \n",
              "\n",
              "   user_id  purchase_id  amount  \n",
              "0    27832          NaN     NaN  \n",
              "1    27833          NaN     NaN  \n",
              "2    27834          NaN     NaN  \n",
              "3    27835          NaN     NaN  \n",
              "4    27836          NaN     NaN  "
            ]
          },
          "execution_count": 365,
          "metadata": {},
          "output_type": "execute_result"
        }
      ],
      "source": [
        "# Теперь, когда мы изучили оба файла, можем свести их в один.\n",
        "total_df = pd.concat([events_df,purchase_df],sort=False)\n",
        "total_df = total_df.reset_index(drop=True).sort_values('start_time')\n",
        "total_df.head()"
      ]
    },
    {
      "cell_type": "markdown",
      "metadata": {
        "id": "WdIlsSS3leJR"
      },
      "source": [
        "Данные для анализа подготовлены."
      ]
    },
    {
      "cell_type": "markdown",
      "metadata": {
        "id": "thtYIc94leJR"
      },
      "source": [
        "# Гипотеза 1\n",
        "\n",
        "По идее, должна быть разница в поведении групп, которые проходят и не проходят обучение. Но так ли это? Влияет ли обучение на скорость прохождения других этапов игры?"
      ]
    },
    {
      "cell_type": "markdown",
      "metadata": {
        "id": "NP5HIcrqleJR"
      },
      "source": [
        "**Сначала изучим событие registration**"
      ]
    },
    {
      "cell_type": "code",
      "execution_count": null,
      "metadata": {
        "id": "yasz-yV7leJS",
        "outputId": "264f3222-34b3-4579-b017-e50f855f533e"
      },
      "outputs": [
        {
          "data": {
            "text/plain": [
              "19914"
            ]
          },
          "execution_count": 366,
          "metadata": {},
          "output_type": "execute_result"
        }
      ],
      "source": [
        "# Сколько пользователей его прошли и все ли пользователи регистрировались?:\n",
        "total_df[total_df['event_type'] == 'registration']['user_id'].nunique()"
      ]
    },
    {
      "cell_type": "code",
      "execution_count": null,
      "metadata": {
        "id": "eFaYR4QpleJS",
        "outputId": "04e0a474-52af-4357-d18c-5dfdab4bddcb"
      },
      "outputs": [
        {
          "data": {
            "text/plain": [
              "19914"
            ]
          },
          "execution_count": 367,
          "metadata": {},
          "output_type": "execute_result"
        }
      ],
      "source": [
        "total_df['user_id'].nunique()"
      ]
    },
    {
      "cell_type": "code",
      "execution_count": null,
      "metadata": {
        "id": "8NPKsMXKleJT",
        "outputId": "e90d7189-0a7a-4c43-d9b1-f221fd106332"
      },
      "outputs": [
        {
          "data": {
            "text/plain": [
              "1.0"
            ]
          },
          "execution_count": 368,
          "metadata": {},
          "output_type": "execute_result"
        }
      ],
      "source": [
        "# Зарегистрироваться можно только один раз.\n",
        "total_df[total_df[\"event_type\"] == \"registration\"][\"user_id\"].value_counts().mean()"
      ]
    },
    {
      "cell_type": "code",
      "execution_count": null,
      "metadata": {
        "id": "I_UAZ8zrleJT",
        "outputId": "81dc1119-e5b0-4b2b-8650-738691ed6295"
      },
      "outputs": [
        {
          "data": {
            "text/html": [
              "<div>\n",
              "<style scoped>\n",
              "    .dataframe tbody tr th:only-of-type {\n",
              "        vertical-align: middle;\n",
              "    }\n",
              "\n",
              "    .dataframe tbody tr th {\n",
              "        vertical-align: top;\n",
              "    }\n",
              "\n",
              "    .dataframe thead th {\n",
              "        text-align: right;\n",
              "    }\n",
              "</style>\n",
              "<table border=\"1\" class=\"dataframe\">\n",
              "  <thead>\n",
              "    <tr style=\"text-align: right;\">\n",
              "      <th></th>\n",
              "      <th>event_id</th>\n",
              "      <th>event_type</th>\n",
              "      <th>selected_level</th>\n",
              "      <th>start_time</th>\n",
              "      <th>tutorial_id</th>\n",
              "      <th>user_id</th>\n",
              "      <th>purchase_id</th>\n",
              "      <th>amount</th>\n",
              "    </tr>\n",
              "  </thead>\n",
              "  <tbody>\n",
              "    <tr>\n",
              "      <th>7</th>\n",
              "      <td>80315.0</td>\n",
              "      <td>tutorial_start</td>\n",
              "      <td>NaN</td>\n",
              "      <td>2018-01-01 14:54:40</td>\n",
              "      <td>31505.0</td>\n",
              "      <td>27836</td>\n",
              "      <td>NaN</td>\n",
              "      <td>NaN</td>\n",
              "    </tr>\n",
              "    <tr>\n",
              "      <th>8</th>\n",
              "      <td>80316.0</td>\n",
              "      <td>tutorial_start</td>\n",
              "      <td>NaN</td>\n",
              "      <td>2018-01-01 15:00:51</td>\n",
              "      <td>31506.0</td>\n",
              "      <td>27835</td>\n",
              "      <td>NaN</td>\n",
              "      <td>NaN</td>\n",
              "    </tr>\n",
              "    <tr>\n",
              "      <th>10</th>\n",
              "      <td>80318.0</td>\n",
              "      <td>tutorial_start</td>\n",
              "      <td>NaN</td>\n",
              "      <td>2018-01-01 15:40:43</td>\n",
              "      <td>31507.0</td>\n",
              "      <td>27836</td>\n",
              "      <td>NaN</td>\n",
              "      <td>NaN</td>\n",
              "    </tr>\n",
              "    <tr>\n",
              "      <th>12</th>\n",
              "      <td>80320.0</td>\n",
              "      <td>tutorial_start</td>\n",
              "      <td>NaN</td>\n",
              "      <td>2018-01-01 17:47:40</td>\n",
              "      <td>31508.0</td>\n",
              "      <td>27833</td>\n",
              "      <td>NaN</td>\n",
              "      <td>NaN</td>\n",
              "    </tr>\n",
              "    <tr>\n",
              "      <th>15</th>\n",
              "      <td>80323.0</td>\n",
              "      <td>tutorial_start</td>\n",
              "      <td>NaN</td>\n",
              "      <td>2018-01-01 19:11:36</td>\n",
              "      <td>31509.0</td>\n",
              "      <td>27839</td>\n",
              "      <td>NaN</td>\n",
              "      <td>NaN</td>\n",
              "    </tr>\n",
              "    <tr>\n",
              "      <th>17</th>\n",
              "      <td>80325.0</td>\n",
              "      <td>tutorial_start</td>\n",
              "      <td>NaN</td>\n",
              "      <td>2018-01-01 19:46:11</td>\n",
              "      <td>31510.0</td>\n",
              "      <td>27834</td>\n",
              "      <td>NaN</td>\n",
              "      <td>NaN</td>\n",
              "    </tr>\n",
              "    <tr>\n",
              "      <th>29</th>\n",
              "      <td>80337.0</td>\n",
              "      <td>tutorial_start</td>\n",
              "      <td>NaN</td>\n",
              "      <td>2018-01-02 02:07:07</td>\n",
              "      <td>31511.0</td>\n",
              "      <td>27840</td>\n",
              "      <td>NaN</td>\n",
              "      <td>NaN</td>\n",
              "    </tr>\n",
              "    <tr>\n",
              "      <th>30</th>\n",
              "      <td>80338.0</td>\n",
              "      <td>tutorial_start</td>\n",
              "      <td>NaN</td>\n",
              "      <td>2018-01-02 03:03:44</td>\n",
              "      <td>31512.0</td>\n",
              "      <td>27845</td>\n",
              "      <td>NaN</td>\n",
              "      <td>NaN</td>\n",
              "    </tr>\n",
              "    <tr>\n",
              "      <th>32</th>\n",
              "      <td>80340.0</td>\n",
              "      <td>tutorial_start</td>\n",
              "      <td>NaN</td>\n",
              "      <td>2018-01-02 04:55:11</td>\n",
              "      <td>31513.0</td>\n",
              "      <td>27842</td>\n",
              "      <td>NaN</td>\n",
              "      <td>NaN</td>\n",
              "    </tr>\n",
              "    <tr>\n",
              "      <th>41</th>\n",
              "      <td>80349.0</td>\n",
              "      <td>tutorial_start</td>\n",
              "      <td>NaN</td>\n",
              "      <td>2018-01-02 07:08:00</td>\n",
              "      <td>31514.0</td>\n",
              "      <td>27845</td>\n",
              "      <td>NaN</td>\n",
              "      <td>NaN</td>\n",
              "    </tr>\n",
              "  </tbody>\n",
              "</table>\n",
              "</div>"
            ],
            "text/plain": [
              "    event_id      event_type selected_level          start_time  tutorial_id  \\\n",
              "7    80315.0  tutorial_start            NaN 2018-01-01 14:54:40      31505.0   \n",
              "8    80316.0  tutorial_start            NaN 2018-01-01 15:00:51      31506.0   \n",
              "10   80318.0  tutorial_start            NaN 2018-01-01 15:40:43      31507.0   \n",
              "12   80320.0  tutorial_start            NaN 2018-01-01 17:47:40      31508.0   \n",
              "15   80323.0  tutorial_start            NaN 2018-01-01 19:11:36      31509.0   \n",
              "17   80325.0  tutorial_start            NaN 2018-01-01 19:46:11      31510.0   \n",
              "29   80337.0  tutorial_start            NaN 2018-01-02 02:07:07      31511.0   \n",
              "30   80338.0  tutorial_start            NaN 2018-01-02 03:03:44      31512.0   \n",
              "32   80340.0  tutorial_start            NaN 2018-01-02 04:55:11      31513.0   \n",
              "41   80349.0  tutorial_start            NaN 2018-01-02 07:08:00      31514.0   \n",
              "\n",
              "    user_id  purchase_id  amount  \n",
              "7     27836          NaN     NaN  \n",
              "8     27835          NaN     NaN  \n",
              "10    27836          NaN     NaN  \n",
              "12    27833          NaN     NaN  \n",
              "15    27839          NaN     NaN  \n",
              "17    27834          NaN     NaN  \n",
              "29    27840          NaN     NaN  \n",
              "30    27845          NaN     NaN  \n",
              "32    27842          NaN     NaN  \n",
              "41    27845          NaN     NaN  "
            ]
          },
          "execution_count": 369,
          "metadata": {},
          "output_type": "execute_result"
        }
      ],
      "source": [
        "# Посмотрим на срез данных по событию tutorial_start.\n",
        "total_df[total_df['event_type'] == 'tutorial_start'].head(10)"
      ]
    },
    {
      "cell_type": "code",
      "execution_count": null,
      "metadata": {
        "id": "gnQdT__uleJU",
        "outputId": "a2798a3f-2d8a-48ff-8115-711ded25ecc0"
      },
      "outputs": [
        {
          "data": {
            "text/plain": [
              "11852"
            ]
          },
          "execution_count": 370,
          "metadata": {},
          "output_type": "execute_result"
        }
      ],
      "source": [
        "# И на количество пользователей, которые прошли этот этап:\n",
        "total_df[total_df['event_type'] == 'tutorial_start']['user_id'].nunique()"
      ]
    },
    {
      "cell_type": "code",
      "execution_count": null,
      "metadata": {
        "id": "0t14IKLIleJU",
        "outputId": "501ee47e-bef9-4abf-b9cb-7c17cf55d497"
      },
      "outputs": [
        {
          "data": {
            "text/plain": [
              "10244"
            ]
          },
          "execution_count": 371,
          "metadata": {},
          "output_type": "execute_result"
        }
      ],
      "source": [
        "# Посмотрим на количество пользователей, которые совершают событие tutorial_finish:\n",
        "total_df[total_df['event_type'] == 'tutorial_finish']['user_id'].nunique()"
      ]
    },
    {
      "cell_type": "markdown",
      "metadata": {
        "id": "hNjyiKSrleJU"
      },
      "source": [
        "Как мы видим, число пользователей, которые закончили обучение, существенно меньше, чем число пользователей, прошедших регистрацию."
      ]
    },
    {
      "cell_type": "code",
      "execution_count": null,
      "metadata": {
        "id": "BHOLR57aleJU",
        "outputId": "d8eceab0-b1ab-4ea3-e6a5-9772abd76ec2"
      },
      "outputs": [
        {
          "name": "stdout",
          "output_type": "stream",
          "text": [
            "Процент пользователей, закончивших обучение (от общего числа зарегистрировавшихся): 51.44%\n"
          ]
        }
      ],
      "source": [
        "# Давайте определим процент пользователей, которые закончили обучение, и запишем его в переменную\n",
        "# percent_tutorial_finish_users.\n",
        "registered_users_count = total_df[total_df[\"event_type\"] == \"registration\"][\n",
        "    \"user_id\"\n",
        "].nunique()\n",
        "tutorial_finish_users_count = total_df[total_df[\"event_type\"] == \"tutorial_finish\"][\n",
        "    \"user_id\"\n",
        "].nunique()\n",
        "percent_tutorial_finish_users = tutorial_finish_users_count / registered_users_count\n",
        "print(\n",
        "    \"Процент пользователей, закончивших обучение (от общего числа зарегистрировавшихся): {:.2%}\".format(\n",
        "        percent_tutorial_finish_users\n",
        "    )\n",
        ")"
      ]
    },
    {
      "cell_type": "code",
      "execution_count": null,
      "metadata": {
        "id": "yltb4pxxleJU"
      },
      "outputs": [],
      "source": [
        "# Выпишем всех пользователей, начавших обучение\n",
        "tutorial_start_df = total_df[total_df[\"event_type\"] == \"tutorial_start\"][\n",
        "    \"user_id\"].unique()"
      ]
    },
    {
      "cell_type": "code",
      "execution_count": null,
      "metadata": {
        "id": "KtY7pwKsleJV"
      },
      "outputs": [],
      "source": [
        "# Выпишем всех пользователей, завершивших обучение\n",
        "tutorial_finish_df = total_df[total_df[\"event_type\"] == \"tutorial_finish\"][\n",
        "    \"user_id\"].unique()"
      ]
    },
    {
      "cell_type": "code",
      "execution_count": null,
      "metadata": {
        "id": "2eCZcIbNleJV",
        "outputId": "74019bb6-60cd-4505-b6da-291f9120268d"
      },
      "outputs": [
        {
          "data": {
            "text/plain": [
              "True"
            ]
          },
          "execution_count": 375,
          "metadata": {},
          "output_type": "execute_result"
        }
      ],
      "source": [
        "# Возьмем общий файл и построим сводную таблицу по этапам, учитывая только первые попытки пройти тот или иной этап:\n",
        "user_time_table = total_df.pivot_table (values = ['start_time'], \\\n",
        "                                               index = ['user_id'], columns = ['event_type'], aggfunc = 'min')\n",
        "user_time_table.reset_index(inplace = True)\n",
        "\n",
        "# Проверим данные на целостность:\n",
        "len(user_time_table) == total_df['user_id'].nunique()"
      ]
    },
    {
      "cell_type": "code",
      "execution_count": null,
      "metadata": {
        "id": "Aj6-HXTIleJV",
        "outputId": "5f864403-2dc6-4664-c6d9-cd04a563d793"
      },
      "outputs": [
        {
          "name": "stdout",
          "output_type": "stream",
          "text": [
            "<class 'pandas.core.frame.DataFrame'>\n",
            "RangeIndex: 19914 entries, 0 to 19913\n",
            "Data columns (total 7 columns):\n",
            " #   Column           Non-Null Count  Dtype         \n",
            "---  ------           --------------  -----         \n",
            " 0   user_id          19914 non-null  int64         \n",
            " 1   level_choice     8338 non-null   datetime64[ns]\n",
            " 2   pack_choice      5735 non-null   datetime64[ns]\n",
            " 3   purchase         1600 non-null   datetime64[ns]\n",
            " 4   registration     19914 non-null  datetime64[ns]\n",
            " 5   tutorial_finish  10244 non-null  datetime64[ns]\n",
            " 6   tutorial_start   11852 non-null  datetime64[ns]\n",
            "dtypes: datetime64[ns](6), int64(1)\n",
            "memory usage: 1.1 MB\n"
          ]
        }
      ],
      "source": [
        "# Для дальнейшего удобства переименуем колонки и посмотрим на данные:\n",
        "user_time_table.columns = ['user_id', 'level_choice', 'pack_choice', 'purchase', 'registration', \\\n",
        "                           'tutorial_finish', 'tutorial_start']\n",
        "user_time_table.info()"
      ]
    },
    {
      "cell_type": "markdown",
      "metadata": {
        "id": "9HkKVwyhleJV"
      },
      "source": [
        "Таким образом, у нас появилась возможность посмотреть, какая разница между этапами у пользователей с обучением  и без него. Но сначала сделаем столбец \"группа\". Присвоим \"not_trained\", если обучения не было, \"trained\", если оно закончено, и \"other\", если начато, но не закончено.\n",
        "\n",
        "Сперва напишем функцию, которая будет присваивать нужное значение пользователю, а затем применим ее к датасету."
      ]
    },
    {
      "cell_type": "code",
      "execution_count": null,
      "metadata": {
        "id": "znD2xVHlleJV"
      },
      "outputs": [],
      "source": [
        "def user_group(idx):\n",
        "    if idx in tutorial_finish_df:\n",
        "        return 'trained'\n",
        "    elif idx in tutorial_start_df:\n",
        "        return 'other'\n",
        "    else:\n",
        "        return 'not_trained'"
      ]
    },
    {
      "cell_type": "code",
      "execution_count": null,
      "metadata": {
        "id": "FqbNOiNnleJV",
        "outputId": "a3fed902-df97-4c93-ae52-2f0bf34f9edb"
      },
      "outputs": [
        {
          "data": {
            "text/html": [
              "<div>\n",
              "<style scoped>\n",
              "    .dataframe tbody tr th:only-of-type {\n",
              "        vertical-align: middle;\n",
              "    }\n",
              "\n",
              "    .dataframe tbody tr th {\n",
              "        vertical-align: top;\n",
              "    }\n",
              "\n",
              "    .dataframe thead th {\n",
              "        text-align: right;\n",
              "    }\n",
              "</style>\n",
              "<table border=\"1\" class=\"dataframe\">\n",
              "  <thead>\n",
              "    <tr style=\"text-align: right;\">\n",
              "      <th></th>\n",
              "      <th>user_id</th>\n",
              "      <th>level_choice</th>\n",
              "      <th>pack_choice</th>\n",
              "      <th>purchase</th>\n",
              "      <th>registration</th>\n",
              "      <th>tutorial_finish</th>\n",
              "      <th>tutorial_start</th>\n",
              "      <th>user_group</th>\n",
              "    </tr>\n",
              "  </thead>\n",
              "  <tbody>\n",
              "    <tr>\n",
              "      <th>0</th>\n",
              "      <td>27832</td>\n",
              "      <td>NaT</td>\n",
              "      <td>NaT</td>\n",
              "      <td>NaT</td>\n",
              "      <td>2018-01-01 03:48:40</td>\n",
              "      <td>NaT</td>\n",
              "      <td>NaT</td>\n",
              "      <td>not_trained</td>\n",
              "    </tr>\n",
              "    <tr>\n",
              "      <th>1</th>\n",
              "      <td>27833</td>\n",
              "      <td>NaT</td>\n",
              "      <td>NaT</td>\n",
              "      <td>NaT</td>\n",
              "      <td>2018-01-01 04:07:25</td>\n",
              "      <td>2018-01-01 17:50:08</td>\n",
              "      <td>2018-01-01 17:47:40</td>\n",
              "      <td>trained</td>\n",
              "    </tr>\n",
              "    <tr>\n",
              "      <th>2</th>\n",
              "      <td>27834</td>\n",
              "      <td>NaT</td>\n",
              "      <td>NaT</td>\n",
              "      <td>NaT</td>\n",
              "      <td>2018-01-01 08:35:10</td>\n",
              "      <td>2018-01-01 19:48:01</td>\n",
              "      <td>2018-01-01 19:46:11</td>\n",
              "      <td>trained</td>\n",
              "    </tr>\n",
              "    <tr>\n",
              "      <th>3</th>\n",
              "      <td>27835</td>\n",
              "      <td>2018-01-01 20:37:22</td>\n",
              "      <td>2018-01-01 20:38:43</td>\n",
              "      <td>NaT</td>\n",
              "      <td>2018-01-01 11:54:47</td>\n",
              "      <td>2018-01-01 15:06:15</td>\n",
              "      <td>2018-01-01 15:00:51</td>\n",
              "      <td>trained</td>\n",
              "    </tr>\n",
              "    <tr>\n",
              "      <th>4</th>\n",
              "      <td>27836</td>\n",
              "      <td>NaT</td>\n",
              "      <td>NaT</td>\n",
              "      <td>NaT</td>\n",
              "      <td>2018-01-01 13:28:07</td>\n",
              "      <td>2018-01-01 15:42:58</td>\n",
              "      <td>2018-01-01 14:54:40</td>\n",
              "      <td>trained</td>\n",
              "    </tr>\n",
              "  </tbody>\n",
              "</table>\n",
              "</div>"
            ],
            "text/plain": [
              "   user_id        level_choice         pack_choice purchase  \\\n",
              "0    27832                 NaT                 NaT      NaT   \n",
              "1    27833                 NaT                 NaT      NaT   \n",
              "2    27834                 NaT                 NaT      NaT   \n",
              "3    27835 2018-01-01 20:37:22 2018-01-01 20:38:43      NaT   \n",
              "4    27836                 NaT                 NaT      NaT   \n",
              "\n",
              "         registration     tutorial_finish      tutorial_start   user_group  \n",
              "0 2018-01-01 03:48:40                 NaT                 NaT  not_trained  \n",
              "1 2018-01-01 04:07:25 2018-01-01 17:50:08 2018-01-01 17:47:40      trained  \n",
              "2 2018-01-01 08:35:10 2018-01-01 19:48:01 2018-01-01 19:46:11      trained  \n",
              "3 2018-01-01 11:54:47 2018-01-01 15:06:15 2018-01-01 15:00:51      trained  \n",
              "4 2018-01-01 13:28:07 2018-01-01 15:42:58 2018-01-01 14:54:40      trained  "
            ]
          },
          "execution_count": 378,
          "metadata": {},
          "output_type": "execute_result"
        }
      ],
      "source": [
        "user_time_table['user_group'] = user_time_table['user_id'].apply(user_group)\n",
        "user_time_table.head()"
      ]
    },
    {
      "cell_type": "markdown",
      "metadata": {
        "id": "ftnwzNM3leJV"
      },
      "source": [
        "Сгруппируем пользователей согласно присвоенным меткам и посмотрим на количество людей во всех трех группах на диаграмме."
      ]
    },
    {
      "cell_type": "code",
      "execution_count": null,
      "metadata": {
        "id": "ltWk5pelleJV",
        "outputId": "ad1e9267-a742-4a58-def0-d580d6cf21d2"
      },
      "outputs": [
        {
          "data": {
            "image/png": "[encoded data removed]",
            "text/plain": [
              "<Figure size 1000x500 with 1 Axes>"
            ]
          },
          "metadata": {},
          "output_type": "display_data"
        }
      ],
      "source": [
        "grouped_ids = user_time_table.groupby([\"user_group\"])[\"user_id\"].count()\n",
        "\n",
        "grouped_ids.plot(\n",
        "    kind='bar',\n",
        "    grid=True,\n",
        "    figsize=(10, 5)\n",
        ");"
      ]
    },
    {
      "cell_type": "markdown",
      "metadata": {
        "id": "kWz1CEB9leJW"
      },
      "source": [
        "По диаграмме получается, что большинство пользователей не только начало, но и завершило обучение."
      ]
    },
    {
      "cell_type": "markdown",
      "metadata": {
        "id": "xBT6hgtjleJW"
      },
      "source": [
        "Дополним нашу таблицу несколькими столбцами, которые содержат время между этапами."
      ]
    },
    {
      "cell_type": "code",
      "execution_count": null,
      "metadata": {
        "id": "BWIU1nbYleJW",
        "outputId": "0fd0236a-90e8-460a-a3ba-aadd2974653e"
      },
      "outputs": [
        {
          "name": "stdout",
          "output_type": "stream",
          "text": [
            "<class 'pandas.core.frame.DataFrame'>\n",
            "RangeIndex: 19914 entries, 0 to 19913\n",
            "Data columns (total 11 columns):\n",
            " #   Column                 Non-Null Count  Dtype         \n",
            "---  ------                 --------------  -----         \n",
            " 0   user_id                19914 non-null  int64         \n",
            " 1   level_choice           8338 non-null   datetime64[ns]\n",
            " 2   pack_choice            5735 non-null   datetime64[ns]\n",
            " 3   purchase               1600 non-null   datetime64[ns]\n",
            " 4   registration           19914 non-null  datetime64[ns]\n",
            " 5   tutorial_finish        10244 non-null  datetime64[ns]\n",
            " 6   tutorial_start         11852 non-null  datetime64[ns]\n",
            " 7   user_group             19914 non-null  object        \n",
            " 8   time_for_level_choice  8338 non-null   float64       \n",
            " 9   time_for_pack_choice   5735 non-null   float64       \n",
            " 10  time_for_purchase      1600 non-null   float64       \n",
            "dtypes: datetime64[ns](6), float64(3), int64(1), object(1)\n",
            "memory usage: 1.7+ MB\n"
          ]
        }
      ],
      "source": [
        "# Между этапом регистрации и этапом выбора уровня сложности\n",
        "user_time_table['time_for_level_choice'] = round((user_time_table['registration'] - user_time_table['level_choice']).dt.seconds, 2)\n",
        "\n",
        "# Между этапом выбора уровня сложности и этапом выбора бесплатного пакета вопросов\n",
        "user_time_table['time_for_pack_choice'] = round((user_time_table['pack_choice'] - user_time_table['level_choice']).dt.seconds, 2)\n",
        "\n",
        "# Между этапом выбора бесплатного пакета вопросов и этапом оплаты дополнительного пакета вопросов\n",
        "user_time_table['time_for_purchase'] = round((user_time_table['purchase'] - user_time_table['pack_choice']).dt.seconds, 2)\n",
        "\n",
        "# Посмотрим на получившиеся данные\n",
        "user_time_table.info()\n"
      ]
    },
    {
      "cell_type": "code",
      "execution_count": null,
      "metadata": {
        "id": "4FdudY5XleJW"
      },
      "outputs": [],
      "source": [
        "# Для всех периодов выберем медианное время перехода от этапа к этапу для всех трех групп пользователей.\n",
        "\n",
        "# Для перехода к выбору уровня\n",
        "grouped_time0 = user_time_table.groupby([\"user_group\"])[\"time_for_level_choice\"].median()\n",
        "\n",
        "# Для перехода к выбору бесплатного пакета вопросов\n",
        "grouped_time1 = user_time_table.groupby([\"user_group\"])[\"time_for_pack_choice\"].median()\n",
        "\n",
        "# Для перехода к оплате\n",
        "grouped_time2 = user_time_table.groupby([\"user_group\"])[\"time_for_purchase\"].median()\n",
        "\n",
        "# Для всех периодов\n",
        "grouped_time = user_time_table.groupby([\"user_group\"])[[\"time_for_level_choice\", \"time_for_pack_choice\", \"time_for_purchase\"]].median()\n",
        "\n",
        "# Если бы мы хотели исключить группу other, то выполнили бы код ниже:\n",
        "# grouped_time = grouped_time.iloc [[0, 2]]"
      ]
    },
    {
      "cell_type": "code",
      "execution_count": null,
      "metadata": {
        "id": "9uU9Lf0SleJW"
      },
      "outputs": [],
      "source": [
        "# Для удобства построения диаграмм транспонируем нашу таблицу:\n",
        "grouped_time = grouped_time.T"
      ]
    },
    {
      "cell_type": "code",
      "execution_count": null,
      "metadata": {
        "id": "Je4UuprrleJW",
        "outputId": "73d038b7-3c8e-4a48-a208-649378619b7c"
      },
      "outputs": [
        {
          "data": {
            "text/html": [
              "<div>\n",
              "<style scoped>\n",
              "    .dataframe tbody tr th:only-of-type {\n",
              "        vertical-align: middle;\n",
              "    }\n",
              "\n",
              "    .dataframe tbody tr th {\n",
              "        vertical-align: top;\n",
              "    }\n",
              "\n",
              "    .dataframe thead th {\n",
              "        text-align: right;\n",
              "    }\n",
              "</style>\n",
              "<table border=\"1\" class=\"dataframe\">\n",
              "  <thead>\n",
              "    <tr style=\"text-align: right;\">\n",
              "      <th>user_group</th>\n",
              "      <th>not_trained</th>\n",
              "      <th>other</th>\n",
              "      <th>trained</th>\n",
              "    </tr>\n",
              "  </thead>\n",
              "  <tbody>\n",
              "    <tr>\n",
              "      <th>time_for_level_choice</th>\n",
              "      <td>19.07</td>\n",
              "      <td>16.82</td>\n",
              "      <td>18.04</td>\n",
              "    </tr>\n",
              "    <tr>\n",
              "      <th>time_for_pack_choice</th>\n",
              "      <td>0.08</td>\n",
              "      <td>0.08</td>\n",
              "      <td>0.08</td>\n",
              "    </tr>\n",
              "    <tr>\n",
              "      <th>time_for_purchase</th>\n",
              "      <td>9.53</td>\n",
              "      <td>12.46</td>\n",
              "      <td>12.11</td>\n",
              "    </tr>\n",
              "  </tbody>\n",
              "</table>\n",
              "</div>"
            ],
            "text/plain": [
              "user_group             not_trained  other  trained\n",
              "time_for_level_choice        19.07  16.82    18.04\n",
              "time_for_pack_choice          0.08   0.08     0.08\n",
              "time_for_purchase             9.53  12.46    12.11"
            ]
          },
          "metadata": {},
          "output_type": "display_data"
        }
      ],
      "source": [
        "# И для удобства оценки переведем получившиемя секунды в часы.\n",
        "grouped_time[['not_trained', 'other', 'trained']] = round(grouped_time[['not_trained', 'other', 'trained']]/3600, 2)\n",
        "\n",
        "# Выведем таблицу:\n",
        "display(grouped_time)"
      ]
    },
    {
      "cell_type": "markdown",
      "metadata": {
        "id": "WF6tuVobleJX"
      },
      "source": [
        "Построим столбчатую диограмму согласно таблице"
      ]
    },
    {
      "cell_type": "code",
      "execution_count": null,
      "metadata": {
        "id": "j8RZFM6oleJX",
        "outputId": "43f6261b-6231-4878-cb29-b5340ec68319"
      },
      "outputs": [
        {
          "data": {
            "image/png": "[encoded data removed]",
            "text/plain": [
              "<Figure size 1000x500 with 1 Axes>"
            ]
          },
          "metadata": {},
          "output_type": "display_data"
        }
      ],
      "source": [
        "grouped_time.plot(\n",
        "    kind='bar',\n",
        "    grid=True,\n",
        "    figsize=(10, 5)\n",
        ");"
      ]
    },
    {
      "cell_type": "markdown",
      "metadata": {
        "id": "HPAZWqeSleJX"
      },
      "source": [
        "Из графика и таблицы мы видим, что группа, которая ни разу не проходила обучение, дольше (примерно на час) переходят к этапу выбора уровня сложности, но меньше (чуть больше, чем на 2 часа) — на переход к оплате."
      ]
    },
    {
      "cell_type": "markdown",
      "metadata": {
        "id": "LzWA6I3gleJb"
      },
      "source": [
        "# Вывод:\n",
        "\n",
        "Пользователи, закончившие обучение, тратят меньше времени на переход к выбору уровня сложности, и больше — на выбор бесплатного пакета вопросов и оплату."
      ]
    },
    {
      "cell_type": "markdown",
      "metadata": {
        "id": "KkUCnr2cleJb"
      },
      "source": [
        "# Гипотеза 2\n",
        "\n",
        "Посмотрим, положительно ли влияет повторное прохождение обучения влияет на оплату.\n",
        "\n",
        "Для этого соберем сводную таблицу, в которой посчитаем все типы событий у каждого пользователя."
      ]
    },
    {
      "cell_type": "code",
      "execution_count": null,
      "metadata": {
        "id": "8AXjXI0HleJb"
      },
      "outputs": [],
      "source": [
        "tutorial = total_df.pivot_table (values = ['start_time'], index = ['user_id'], \\\n",
        "                                        columns = ['event_type'], aggfunc = 'count', fill_value = 0).reset_index()\n",
        "tutorial.columns = ['user_id', 'level_choice', 'pack_choice', 'purchase', 'registration', 'tutorial_finish', 'tutorial_start']"
      ]
    },
    {
      "cell_type": "code",
      "execution_count": null,
      "metadata": {
        "id": "sJToJBsVleJb",
        "outputId": "b554659d-62a7-4049-e557-2d1face103a6"
      },
      "outputs": [
        {
          "name": "stderr",
          "output_type": "stream",
          "text": [
            "C:\\Users\\iRU\\AppData\\Local\\Temp\\ipykernel_9056\\288031414.py:3: FutureWarning: The provided callable <built-in function sum> is currently using DataFrameGroupBy.sum. In a future version of pandas, the provided callable will be used directly. To keep current behavior pass the string \"sum\" instead.\n",
            "  tutorial_repeat = tutorial.groupby(['tutorial_start'])[['registration', 'purchase']].agg(sum).reset_index()\n"
          ]
        }
      ],
      "source": [
        "# Сгруппируем пользователей, которые начинали обучение, по фактам регистрации и оплаты\n",
        "\n",
        "tutorial_repeat = tutorial.groupby(['tutorial_start'])[['registration', 'purchase']].agg(sum).reset_index()"
      ]
    },
    {
      "cell_type": "code",
      "execution_count": null,
      "metadata": {
        "id": "WtogA94YleJc",
        "outputId": "f7546f41-949e-487e-f314-e95088ca50c9"
      },
      "outputs": [
        {
          "data": {
            "text/html": [
              "<div>\n",
              "<style scoped>\n",
              "    .dataframe tbody tr th:only-of-type {\n",
              "        vertical-align: middle;\n",
              "    }\n",
              "\n",
              "    .dataframe tbody tr th {\n",
              "        vertical-align: top;\n",
              "    }\n",
              "\n",
              "    .dataframe thead th {\n",
              "        text-align: right;\n",
              "    }\n",
              "</style>\n",
              "<table border=\"1\" class=\"dataframe\">\n",
              "  <thead>\n",
              "    <tr style=\"text-align: right;\">\n",
              "      <th></th>\n",
              "      <th>tutorial_start</th>\n",
              "      <th>registration</th>\n",
              "      <th>purchase</th>\n",
              "      <th>percent</th>\n",
              "    </tr>\n",
              "  </thead>\n",
              "  <tbody>\n",
              "    <tr>\n",
              "      <th>0</th>\n",
              "      <td>0</td>\n",
              "      <td>8062</td>\n",
              "      <td>22</td>\n",
              "      <td>0.3</td>\n",
              "    </tr>\n",
              "    <tr>\n",
              "      <th>1</th>\n",
              "      <td>1</td>\n",
              "      <td>9097</td>\n",
              "      <td>1207</td>\n",
              "      <td>13.3</td>\n",
              "    </tr>\n",
              "    <tr>\n",
              "      <th>2</th>\n",
              "      <td>2</td>\n",
              "      <td>1589</td>\n",
              "      <td>218</td>\n",
              "      <td>13.7</td>\n",
              "    </tr>\n",
              "    <tr>\n",
              "      <th>3</th>\n",
              "      <td>3</td>\n",
              "      <td>427</td>\n",
              "      <td>51</td>\n",
              "      <td>11.9</td>\n",
              "    </tr>\n",
              "    <tr>\n",
              "      <th>4</th>\n",
              "      <td>4</td>\n",
              "      <td>221</td>\n",
              "      <td>30</td>\n",
              "      <td>13.6</td>\n",
              "    </tr>\n",
              "    <tr>\n",
              "      <th>5</th>\n",
              "      <td>5</td>\n",
              "      <td>109</td>\n",
              "      <td>16</td>\n",
              "      <td>14.7</td>\n",
              "    </tr>\n",
              "    <tr>\n",
              "      <th>6</th>\n",
              "      <td>6</td>\n",
              "      <td>116</td>\n",
              "      <td>14</td>\n",
              "      <td>12.1</td>\n",
              "    </tr>\n",
              "    <tr>\n",
              "      <th>7</th>\n",
              "      <td>7</td>\n",
              "      <td>94</td>\n",
              "      <td>12</td>\n",
              "      <td>12.8</td>\n",
              "    </tr>\n",
              "    <tr>\n",
              "      <th>8</th>\n",
              "      <td>8</td>\n",
              "      <td>86</td>\n",
              "      <td>13</td>\n",
              "      <td>15.1</td>\n",
              "    </tr>\n",
              "    <tr>\n",
              "      <th>9</th>\n",
              "      <td>9</td>\n",
              "      <td>113</td>\n",
              "      <td>17</td>\n",
              "      <td>15.0</td>\n",
              "    </tr>\n",
              "  </tbody>\n",
              "</table>\n",
              "</div>"
            ],
            "text/plain": [
              "   tutorial_start  registration  purchase  percent\n",
              "0               0          8062        22      0.3\n",
              "1               1          9097      1207     13.3\n",
              "2               2          1589       218     13.7\n",
              "3               3           427        51     11.9\n",
              "4               4           221        30     13.6\n",
              "5               5           109        16     14.7\n",
              "6               6           116        14     12.1\n",
              "7               7            94        12     12.8\n",
              "8               8            86        13     15.1\n",
              "9               9           113        17     15.0"
            ]
          },
          "metadata": {},
          "output_type": "display_data"
        }
      ],
      "source": [
        "# Посчитаем CR каждой группы (процент тех, кто заплатил)\n",
        "tutorial_repeat['percent'] = round(tutorial_repeat['purchase']/tutorial_repeat['registration']*100, 1)\n",
        "display(tutorial_repeat)"
      ]
    },
    {
      "cell_type": "code",
      "execution_count": null,
      "metadata": {
        "id": "olPavlbaleJc",
        "outputId": "9ae2c3f1-17fc-4e06-9405-8909d635c19e"
      },
      "outputs": [
        {
          "data": {
            "text/plain": [
              "8    8\n",
              "Name: tutorial_start, dtype: int64"
            ]
          },
          "execution_count": 388,
          "metadata": {},
          "output_type": "execute_result"
        }
      ],
      "source": [
        "# Посмотрим самый высокий процент:\n",
        "tutorial_repeat[tutorial_repeat['percent'] == tutorial_repeat['percent'].max()]['tutorial_start']"
      ]
    },
    {
      "cell_type": "markdown",
      "metadata": {
        "id": "5CezMmKXleJc"
      },
      "source": [
        "Построим диаграмму:"
      ]
    },
    {
      "cell_type": "code",
      "execution_count": null,
      "metadata": {
        "scrolled": true,
        "id": "nN4uK6EBleJc",
        "outputId": "5a6e56df-7718-4637-8536-6522f7ca160e"
      },
      "outputs": [
        {
          "data": {
            "image/png": "[encoded data removed]",
            "text/plain": [
              "<Figure size 1000x500 with 1 Axes>"
            ]
          },
          "metadata": {},
          "output_type": "display_data"
        }
      ],
      "source": [
        "tutorial_repeat['percent'].plot(\n",
        "    kind='bar',\n",
        "    grid=True,\n",
        "    figsize=(10, 5)\n",
        ");"
      ]
    },
    {
      "cell_type": "markdown",
      "metadata": {
        "id": "eXcjMNR3leJc"
      },
      "source": [
        "Итак, лучше всего процент оплат у пользователей на восьмой попытке обучения.\n",
        "\n",
        "## Вывод:\n",
        "\n",
        "Повторное обучение положительно влияет на оплату. Гипотеза подтвердилась."
      ]
    },
    {
      "cell_type": "markdown",
      "metadata": {
        "id": "pnrf5qd6leJc"
      },
      "source": [
        "# Гипотеза 3\n",
        "\n",
        "Если пользователь сначала выбирает уровень сложности, будет ли он потом проходить обучение?\n",
        "Переформулируем гипотезу: перед началом исследования мы полагали, что наша игра простая и понятная, поэтому пользователи проходят обучение один раз и то не всегда.\n",
        "После первых двух гипотез мы выяснили, что процент пользователей, которые проходили обучение, достаточно велик. Теперь, чтобы понять, прозрачна ли наша игра, нам надо выяснить, есть ли пользователи, которые перешли к обучению после выбора уровня сложности.\n",
        "\n",
        "Предположим, что таких пользователей нет.\n",
        "\n",
        "Сформируем сводную таблицу по самому позднему времени прохождения этапа.\n"
      ]
    },
    {
      "cell_type": "code",
      "execution_count": null,
      "metadata": {
        "id": "7wLvfUJNleJc",
        "outputId": "9e3d57c0-2363-49ed-906c-0cb8555a28f8"
      },
      "outputs": [
        {
          "name": "stderr",
          "output_type": "stream",
          "text": [
            "C:\\Users\\iRU\\AppData\\Local\\Temp\\ipykernel_9056\\690647234.py:1: FutureWarning: The provided callable <built-in function max> is currently using DataFrameGroupBy.max. In a future version of pandas, the provided callable will be used directly. To keep current behavior pass the string \"max\" instead.\n",
            "  user_time_table_max = total_df.pivot_table (values = ['start_time'], \\\n"
          ]
        }
      ],
      "source": [
        "user_time_table_max = total_df.pivot_table (values = ['start_time'], \\\n",
        "                                               index = ['user_id'], columns = ['event_type'], aggfunc = max)\n",
        "user_time_table_max.reset_index(inplace = True)\n",
        "user_time_table_max.columns = ['user_id', 'level_choice', 'pack_choice', 'purchase', 'registration', \\\n",
        "                           'tutorial_finish', 'tutorial_start']"
      ]
    },
    {
      "cell_type": "code",
      "execution_count": null,
      "metadata": {
        "id": "O8mCISQ9leJd"
      },
      "outputs": [],
      "source": [
        "# Отфильтруем таблицу, оставив только тех пользователей,\n",
        "# у которых время прохождения обучения больше, чем время выбора уровня сложности\n",
        "user_time_table_thesis = user_time_table_max.loc[user_time_table_max['tutorial_start'] > user_time_table_max['level_choice']]"
      ]
    },
    {
      "cell_type": "code",
      "execution_count": null,
      "metadata": {
        "id": "ytJeLoIbleJd"
      },
      "outputs": [],
      "source": [
        "# Для сравнения посчитаем, сколько у нас зарегистрированных пользователей (мы это уже делали, но для удобства введем переменную)\n",
        "registered_users_count = total_df[total_df[\"event_type\"] == \"registration\"][\n",
        "    \"user_id\"\n",
        "].nunique()\n",
        "\n",
        "# И введем такую же переменную для пользователей, которые выбрали уровень сложности.\n",
        "level_choice_users_count =  total_df[ total_events_df[\"event_type\"] == \"level_choice\"][\n",
        "    \"user_id\"\n",
        "].nunique()"
      ]
    },
    {
      "cell_type": "code",
      "execution_count": null,
      "metadata": {
        "id": "bv6wTA7zleJd",
        "outputId": "ffc359a7-8b46-4083-b008-b935dbe54ccc"
      },
      "outputs": [
        {
          "name": "stdout",
          "output_type": "stream",
          "text": [
            "Процент пользователей, начавших обучение после выбора уровня сложности (от общего числа зарегистрировавшихся): 6.96%\n"
          ]
        }
      ],
      "source": [
        "# Посчитаем процент людей, у которых время прохождения обучения больше, чем время выбора уровня сложности,\n",
        "# по отношению ко всем зарегистрированным пользователям:\n",
        "percent_for_thesis = round(user_time_table_thesis[\"user_id\"].nunique()/registered_users_count*100, 2)\n",
        "print(\n",
        "    \"Процент пользователей, начавших обучение после выбора уровня сложности (от общего числа зарегистрировавшихся): {}%\".format(\n",
        "        percent_for_thesis\n",
        "    )\n",
        ")"
      ]
    },
    {
      "cell_type": "code",
      "execution_count": null,
      "metadata": {
        "id": "MGebcsYYleJe",
        "outputId": "6c747a64-9f46-4503-bbe3-bc907f68dea4"
      },
      "outputs": [
        {
          "name": "stdout",
          "output_type": "stream",
          "text": [
            "Процент пользователей, начавших обучение после выбора уровня сложности (от общего числа выбравших уровень): 16.62%\n"
          ]
        }
      ],
      "source": [
        "# Посчитаем процент людей, у которых время прохождения обучения больше, чем время выбора уровня сложности,\n",
        "# по отношению к пользователям, которые выбрали уровень сложности:\n",
        "\n",
        "percent_confirmed_from_level_choice = round(user_time_table_thesis[\"user_id\"].nunique()/level_choice_users_count*100, 2)\n",
        "print(\n",
        "    \"Процент пользователей, начавших обучение после выбора уровня сложности (от общего числа выбравших уровень): {}%\".format(\n",
        "        percent_confirmed_from_level_choice\n",
        "    )\n",
        ")"
      ]
    },
    {
      "cell_type": "markdown",
      "metadata": {
        "id": "-z_09kbVleJe"
      },
      "source": [
        "# Выводы:\n",
        "\n",
        "Людей, которые сначала выбрали уровень сложности, а потом перешли к обучению, действительно нет (нет такого пути). Однако достаточное количество людей, пройдя обучение и выбрав уровень сложности, вернулась к обучению снова. Это говорит нам о том, что, возможно, обучение недостаточно информативно. Стоит более пристально рассмотреть количество возвращающихся к обучению для полноценных выводов."
      ]
    }
  ],
  "metadata": {
    "kernelspec": {
      "display_name": "Python 3",
      "language": "python",
      "name": "python3"
    },
    "language_info": {
      "codemirror_mode": {
        "name": "ipython",
        "version": 3
      },
      "file_extension": ".py",
      "mimetype": "text/x-python",
      "name": "python",
      "nbconvert_exporter": "python",
      "pygments_lexer": "ipython3",
      "version": "3.12.2"
    },
    "colab": {
      "provenance": [],
      "include_colab_link": true
    }
  },
  "nbformat": 4,
  "nbformat_minor": 0
}