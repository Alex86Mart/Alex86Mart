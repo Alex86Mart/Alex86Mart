{
  "cells": [
    {
      "cell_type": "markdown",
      "metadata": {
        "id": "view-in-github",
        "colab_type": "text"
      },
      "source": [
        "<a href=\"https://colab.research.google.com/github/Alex86Mart/Alex86Mart/blob/main/PROJECT_4.ipynb\" target=\"_parent\"><img src=\"https://colab.research.google.com/assets/colab-badge.svg\" alt=\"Open In Colab\"/></a>"
      ]
    },
    {
      "cell_type": "markdown",
      "metadata": {
        "id": "y1rST5mXtOOD"
      },
      "source": [
        "# Решение комплескной бизнес-задачи по подготовке основы для рекомендательной системе"
      ]
    },
    {
      "cell_type": "markdown",
      "metadata": {
        "id": "r374uX6-tOOH"
      },
      "source": [
        "## Описание задачи"
      ]
    },
    {
      "cell_type": "markdown",
      "metadata": {
        "id": "ydyXCFjHtOOI"
      },
      "source": [
        "**ЦЕЛЬ**  \n",
        "Подготовить основу рекомендательной системы.\n",
        "\n",
        "**ЗАДАЧИ**  \n",
        "Создать рекомендательную систему, благодаря которой можно будет предлагать клиентам интересные им курсы и тем самым повышать средний чек.\n",
        "Изначальным воплощением этой системы может стать таблица, в которой курсам будет соответствовать по две рекомендации.\n",
        "\n",
        "**КОНКРЕТНЫЕ ШАГИ (ФОРМАЛИЗОВАННЫЕ ЗАДАЧИ)**  \n",
        "* Познакомиться с датасетом, подготовить и проанализировать данные с помощью SQL.\n",
        "* Обработать данные средствами Python.\n",
        "* Составить итоговую таблицу с рекомендациями, снабдив её необходимыми комментариями, и представить отчёт продакт-менеджеру.\n",
        "* Проанализировать результаты A/B-теста, проведённого после внедрения фичи, и сделать вывод.\n",
        "\n",
        "**РЕЗУЛЬТАТ ПРОЕКТА**  \n",
        "Итогом работы станет файл, содержащий результаты всех промежуточных этапов: скрипты с комментариями, таблица рекомендаций и выводы."
      ]
    },
    {
      "cell_type": "markdown",
      "metadata": {
        "id": "qHjn9Gx0tOOI"
      },
      "source": [
        "## Знакомство с данными"
      ]
    },
    {
      "cell_type": "code",
      "execution_count": null,
      "metadata": {
        "id": "XpQ5SEz3tOOJ"
      },
      "outputs": [],
      "source": [
        "import itertools\n",
        "import collections\n",
        "import warnings\n",
        "\n",
        "import matplotlib.pyplot as plt\n",
        "import pandas as pd\n",
        "import numpy as np\n",
        "import psycopg2\n",
        "import seaborn as sns\n",
        "\n",
        "\n",
        "warnings.filterwarnings('ignore')\n",
        "%matplotlib inline"
      ]
    },
    {
      "cell_type": "markdown",
      "metadata": {
        "id": "IGkfbDyFtOOL"
      },
      "source": [
        "В распоряжении две таблицы:\n",
        "\n",
        "`carts` с данными о пользовательских корзинах (дате создания, статусе, id пользователя-владельца и т. д.);  \n",
        "`cart items` с данными о курсах, которые пользователи добавили в корзину."
      ]
    },
    {
      "cell_type": "markdown",
      "metadata": {
        "id": "3yiz1wvutOOM"
      },
      "source": [
        "55.3.1 Продажи за какие годы есть в ваших данных?"
      ]
    },
    {
      "cell_type": "code",
      "execution_count": null,
      "metadata": {
        "id": "uitUaiSxtOOM"
      },
      "outputs": [],
      "source": [
        "'''\n",
        "SELECT DISTINCT (extract(YEAR\n",
        "                         FROM purchased_at))\n",
        "FROM final.carts\n",
        "WHERE state='successful';\n",
        "\n",
        "2018\n",
        "2017\n",
        "'''"
      ]
    },
    {
      "cell_type": "markdown",
      "metadata": {
        "id": "cDqS7TXEtOON"
      },
      "source": [
        "55.3.2 Сколько клиентов покупали курсы?"
      ]
    },
    {
      "cell_type": "code",
      "execution_count": null,
      "metadata": {
        "id": "RpLtC98jtOON"
      },
      "outputs": [],
      "source": [
        "'''\n",
        "SELECT count(DISTINCT user_id)\n",
        "FROM final.carts AS c\n",
        "LEFT JOIN final.cart_items AS ci ON c.id=ci.cart_id\n",
        "WHERE ci.resource_type='Course'\n",
        "  AND c.state='successful';\n",
        "\n",
        "49006\n",
        "'''"
      ]
    },
    {
      "cell_type": "markdown",
      "metadata": {
        "id": "4uljQ-dftOOO"
      },
      "source": [
        "55.3.3 Сколько всего есть различных курсов?"
      ]
    },
    {
      "cell_type": "code",
      "execution_count": null,
      "metadata": {
        "id": "_IdO-biptOOO"
      },
      "outputs": [],
      "source": [
        "'''\n",
        "SELECT count(DISTINCT resource_id)\n",
        "FROM final.cart_items\n",
        "WHERE resource_type='Course';\n",
        "\n",
        "127\n",
        "'''"
      ]
    },
    {
      "cell_type": "markdown",
      "metadata": {
        "id": "AZADAVkntOOO"
      },
      "source": [
        "55.3.4 Каково среднее число купленных курсов на одного клиента?"
      ]
    },
    {
      "cell_type": "code",
      "execution_count": null,
      "metadata": {
        "id": "tK5Dbwq1tOOP"
      },
      "outputs": [],
      "source": [
        "'''\n",
        "SELECT round(avg(cnt_course), 2)\n",
        "FROM\n",
        "  (SELECT count(ci.resource_id) AS cnt_course\n",
        "   FROM final.carts AS c\n",
        "   LEFT JOIN final.cart_items AS ci ON c.id=ci.cart_id\n",
        "   WHERE ci.resource_type='Course'\n",
        "     AND c.state='successful'\n",
        "   GROUP BY user_id) AS cnt_tab;\n",
        "\n",
        "1.44\n",
        "'''"
      ]
    },
    {
      "cell_type": "markdown",
      "metadata": {
        "id": "sC6CxW3wtOOP"
      },
      "source": [
        "55.3.5 Сколько клиентов купили больше одного курса?"
      ]
    },
    {
      "cell_type": "code",
      "execution_count": null,
      "metadata": {
        "id": "ubUPIbuwtOOQ"
      },
      "outputs": [],
      "source": [
        "'''\n",
        "SELECT count(user_id)\n",
        "FROM\n",
        "  (SELECT user_id,\n",
        "          count(DISTINCT ci.resource_id)\n",
        "   FROM final.carts AS c\n",
        "   LEFT JOIN final.cart_items AS ci ON c.id=ci.cart_id\n",
        "   WHERE ci.resource_type='Course'\n",
        "     AND c.state='successful'\n",
        "   GROUP BY user_id\n",
        "   HAVING count(DISTINCT ci.resource_id)>1) AS tmp_tab;\n",
        "\n",
        "12656\n",
        "'''"
      ]
    },
    {
      "cell_type": "markdown",
      "metadata": {
        "id": "JN5QpHUytOOQ"
      },
      "source": [
        "55.3.6 Сколько различных пар курсов встречаются вместе в покупках клиентов?"
      ]
    },
    {
      "cell_type": "markdown",
      "metadata": {
        "id": "xOReVRbQtOOR"
      },
      "source": [
        "Подготовим таблицу с данными по продажам курсов в разрезе пользователей купивших более одного курса."
      ]
    },
    {
      "cell_type": "code",
      "execution_count": null,
      "metadata": {
        "id": "KGSYjOmYtOOR"
      },
      "outputs": [],
      "source": [
        "query = '''\n",
        "WITH interested_clients AS\n",
        "  (SELECT user_id,\n",
        "          COUNT (DISTINCT resource_id) AS quantity\n",
        "   FROM final.carts c\n",
        "   JOIN final.cart_items i ON i.cart_id = c.id\n",
        "   WHERE state = 'successful'\n",
        "     AND resource_type = 'Course'\n",
        "   GROUP BY 1\n",
        "   HAVING COUNT (DISTINCT resource_id) > 1)\n",
        "\n",
        "SELECT distinct c.user_id,\n",
        "       i.resource_id\n",
        "FROM final.carts c\n",
        "JOIN final.cart_items i ON i.cart_id = c.id\n",
        "JOIN interested_clients ic ON ic.user_id = c.user_id\n",
        "WHERE state = 'successful'\n",
        "     AND resource_type = 'Course'\n",
        "ORDER BY 1\n",
        "'''"
      ]
    },
    {
      "cell_type": "code",
      "execution_count": null,
      "metadata": {
        "id": "eZVbF8hstOOS"
      },
      "outputs": [],
      "source": [
        "try:\n",
        "    connection = psycopg2.connect(\n",
        "        user=\"skillfactory\",\n",
        "        password=\"cCkxxLVrDE8EbvjueeMedPKt\",\n",
        "        host=\"84.201.134.129\",\n",
        "        port=\"5432\",\n",
        "        database=\"skillfactory\",\n",
        "    )\n",
        "    cursor = connection.cursor()\n",
        "\n",
        "    cursor.execute(query)\n",
        "    df = cursor.fetchall()\n",
        "    connection.commit()\n",
        "\n",
        "except (Exception, psycopg2.Error) as error:\n",
        "    if connection:\n",
        "        print(\"Error\", error)\n",
        "finally:\n",
        "    if connection:\n",
        "        cursor.close()\n",
        "        connection.close()"
      ]
    },
    {
      "cell_type": "code",
      "execution_count": null,
      "metadata": {
        "id": "3l8W0NQetOOS",
        "outputId": "d0140919-7ed9-4aca-ca48-3fce65e6964d"
      },
      "outputs": [
        {
          "name": "stdout",
          "output_type": "stream",
          "text": [
            "<class 'pandas.core.frame.DataFrame'>\n",
            "RangeIndex: 34074 entries, 0 to 34073\n",
            "Data columns (total 2 columns):\n",
            " #   Column       Non-Null Count  Dtype\n",
            "---  ------       --------------  -----\n",
            " 0   user_id      34074 non-null  int64\n",
            " 1   resource_id  34074 non-null  int64\n",
            "dtypes: int64(2)\n",
            "memory usage: 532.5 KB\n"
          ]
        }
      ],
      "source": [
        "df = pd.DataFrame(df, columns=['user_id', 'resource_id'])\n",
        "df.info()"
      ]
    },
    {
      "cell_type": "code",
      "execution_count": null,
      "metadata": {
        "id": "Zbz3rWFPtOOT",
        "outputId": "bde66e1c-2a94-49a1-bab1-8991b127fbf9"
      },
      "outputs": [
        {
          "data": {
            "text/html": [
              "<div>\n",
              "<style scoped>\n",
              "    .dataframe tbody tr th:only-of-type {\n",
              "        vertical-align: middle;\n",
              "    }\n",
              "\n",
              "    .dataframe tbody tr th {\n",
              "        vertical-align: top;\n",
              "    }\n",
              "\n",
              "    .dataframe thead th {\n",
              "        text-align: right;\n",
              "    }\n",
              "</style>\n",
              "<table border=\"1\" class=\"dataframe\">\n",
              "  <thead>\n",
              "    <tr style=\"text-align: right;\">\n",
              "      <th></th>\n",
              "      <th>user_id</th>\n",
              "      <th>resource_id</th>\n",
              "    </tr>\n",
              "  </thead>\n",
              "  <tbody>\n",
              "    <tr>\n",
              "      <th>0</th>\n",
              "      <td>51</td>\n",
              "      <td>516</td>\n",
              "    </tr>\n",
              "    <tr>\n",
              "      <th>1</th>\n",
              "      <td>51</td>\n",
              "      <td>1099</td>\n",
              "    </tr>\n",
              "    <tr>\n",
              "      <th>2</th>\n",
              "      <td>6117</td>\n",
              "      <td>356</td>\n",
              "    </tr>\n",
              "    <tr>\n",
              "      <th>3</th>\n",
              "      <td>6117</td>\n",
              "      <td>357</td>\n",
              "    </tr>\n",
              "    <tr>\n",
              "      <th>4</th>\n",
              "      <td>6117</td>\n",
              "      <td>1125</td>\n",
              "    </tr>\n",
              "    <tr>\n",
              "      <th>...</th>\n",
              "      <td>...</td>\n",
              "      <td>...</td>\n",
              "    </tr>\n",
              "    <tr>\n",
              "      <th>34069</th>\n",
              "      <td>2188926</td>\n",
              "      <td>515</td>\n",
              "    </tr>\n",
              "    <tr>\n",
              "      <th>34070</th>\n",
              "      <td>2188926</td>\n",
              "      <td>743</td>\n",
              "    </tr>\n",
              "    <tr>\n",
              "      <th>34071</th>\n",
              "      <td>2190141</td>\n",
              "      <td>756</td>\n",
              "    </tr>\n",
              "    <tr>\n",
              "      <th>34072</th>\n",
              "      <td>2190141</td>\n",
              "      <td>794</td>\n",
              "    </tr>\n",
              "    <tr>\n",
              "      <th>34073</th>\n",
              "      <td>2190141</td>\n",
              "      <td>1185</td>\n",
              "    </tr>\n",
              "  </tbody>\n",
              "</table>\n",
              "<p>34074 rows × 2 columns</p>\n",
              "</div>"
            ],
            "text/plain": [
              "       user_id  resource_id\n",
              "0           51          516\n",
              "1           51         1099\n",
              "2         6117          356\n",
              "3         6117          357\n",
              "4         6117         1125\n",
              "...        ...          ...\n",
              "34069  2188926          515\n",
              "34070  2188926          743\n",
              "34071  2190141          756\n",
              "34072  2190141          794\n",
              "34073  2190141         1185\n",
              "\n",
              "[34074 rows x 2 columns]"
            ]
          },
          "execution_count": 5,
          "metadata": {},
          "output_type": "execute_result"
        }
      ],
      "source": [
        "df"
      ]
    },
    {
      "cell_type": "markdown",
      "metadata": {
        "id": "4Jw5iqPwtOOU"
      },
      "source": [
        "Сгруппируем пользователей таким образом, чтобы каждому пользователю соответствовал список из id курсов, которые он приобрел."
      ]
    },
    {
      "cell_type": "code",
      "execution_count": null,
      "metadata": {
        "id": "90OiSA34tOOU",
        "outputId": "be75f3ab-e2cc-4a34-d470-721abdca0f3c"
      },
      "outputs": [
        {
          "data": {
            "text/html": [
              "<div>\n",
              "<style scoped>\n",
              "    .dataframe tbody tr th:only-of-type {\n",
              "        vertical-align: middle;\n",
              "    }\n",
              "\n",
              "    .dataframe tbody tr th {\n",
              "        vertical-align: top;\n",
              "    }\n",
              "\n",
              "    .dataframe thead th {\n",
              "        text-align: right;\n",
              "    }\n",
              "</style>\n",
              "<table border=\"1\" class=\"dataframe\">\n",
              "  <thead>\n",
              "    <tr style=\"text-align: right;\">\n",
              "      <th></th>\n",
              "      <th>user_id</th>\n",
              "      <th>resource_id</th>\n",
              "    </tr>\n",
              "  </thead>\n",
              "  <tbody>\n",
              "    <tr>\n",
              "      <th>0</th>\n",
              "      <td>51</td>\n",
              "      <td>[516, 1099]</td>\n",
              "    </tr>\n",
              "    <tr>\n",
              "      <th>1</th>\n",
              "      <td>6117</td>\n",
              "      <td>[356, 357, 1125]</td>\n",
              "    </tr>\n",
              "    <tr>\n",
              "      <th>2</th>\n",
              "      <td>10275</td>\n",
              "      <td>[553, 1147]</td>\n",
              "    </tr>\n",
              "    <tr>\n",
              "      <th>3</th>\n",
              "      <td>10457</td>\n",
              "      <td>[361, 1138]</td>\n",
              "    </tr>\n",
              "    <tr>\n",
              "      <th>4</th>\n",
              "      <td>17166</td>\n",
              "      <td>[356, 357]</td>\n",
              "    </tr>\n",
              "    <tr>\n",
              "      <th>...</th>\n",
              "      <td>...</td>\n",
              "      <td>...</td>\n",
              "    </tr>\n",
              "    <tr>\n",
              "      <th>12651</th>\n",
              "      <td>2179430</td>\n",
              "      <td>[566, 750]</td>\n",
              "    </tr>\n",
              "    <tr>\n",
              "      <th>12652</th>\n",
              "      <td>2186581</td>\n",
              "      <td>[794, 864, 1129]</td>\n",
              "    </tr>\n",
              "    <tr>\n",
              "      <th>12653</th>\n",
              "      <td>2187601</td>\n",
              "      <td>[356, 553, 571, 765, 912]</td>\n",
              "    </tr>\n",
              "    <tr>\n",
              "      <th>12654</th>\n",
              "      <td>2188926</td>\n",
              "      <td>[515, 743]</td>\n",
              "    </tr>\n",
              "    <tr>\n",
              "      <th>12655</th>\n",
              "      <td>2190141</td>\n",
              "      <td>[756, 794, 1185]</td>\n",
              "    </tr>\n",
              "  </tbody>\n",
              "</table>\n",
              "<p>12656 rows × 2 columns</p>\n",
              "</div>"
            ],
            "text/plain": [
              "       user_id                resource_id\n",
              "0           51                [516, 1099]\n",
              "1         6117           [356, 357, 1125]\n",
              "2        10275                [553, 1147]\n",
              "3        10457                [361, 1138]\n",
              "4        17166                 [356, 357]\n",
              "...        ...                        ...\n",
              "12651  2179430                 [566, 750]\n",
              "12652  2186581           [794, 864, 1129]\n",
              "12653  2187601  [356, 553, 571, 765, 912]\n",
              "12654  2188926                 [515, 743]\n",
              "12655  2190141           [756, 794, 1185]\n",
              "\n",
              "[12656 rows x 2 columns]"
            ]
          },
          "execution_count": 6,
          "metadata": {},
          "output_type": "execute_result"
        }
      ],
      "source": [
        "df_together_courses = df.groupby('user_id')['resource_id'].unique().reset_index()\n",
        "df_together_courses"
      ]
    },
    {
      "cell_type": "markdown",
      "metadata": {
        "id": "2goMAmGLtOOV"
      },
      "source": [
        "Отсортируем курсы по возрастанию номера id для каждого пользователя"
      ]
    },
    {
      "cell_type": "code",
      "execution_count": null,
      "metadata": {
        "id": "b-CZL3kWtOOV",
        "outputId": "96e20ca3-edc7-4c3e-bd10-91bf0ce97f21"
      },
      "outputs": [
        {
          "data": {
            "text/html": [
              "<div>\n",
              "<style scoped>\n",
              "    .dataframe tbody tr th:only-of-type {\n",
              "        vertical-align: middle;\n",
              "    }\n",
              "\n",
              "    .dataframe tbody tr th {\n",
              "        vertical-align: top;\n",
              "    }\n",
              "\n",
              "    .dataframe thead th {\n",
              "        text-align: right;\n",
              "    }\n",
              "</style>\n",
              "<table border=\"1\" class=\"dataframe\">\n",
              "  <thead>\n",
              "    <tr style=\"text-align: right;\">\n",
              "      <th></th>\n",
              "      <th>user_id</th>\n",
              "      <th>resource_id</th>\n",
              "    </tr>\n",
              "  </thead>\n",
              "  <tbody>\n",
              "    <tr>\n",
              "      <th>0</th>\n",
              "      <td>51</td>\n",
              "      <td>[516, 1099]</td>\n",
              "    </tr>\n",
              "    <tr>\n",
              "      <th>1</th>\n",
              "      <td>6117</td>\n",
              "      <td>[356, 357, 1125]</td>\n",
              "    </tr>\n",
              "    <tr>\n",
              "      <th>2</th>\n",
              "      <td>10275</td>\n",
              "      <td>[553, 1147]</td>\n",
              "    </tr>\n",
              "    <tr>\n",
              "      <th>3</th>\n",
              "      <td>10457</td>\n",
              "      <td>[361, 1138]</td>\n",
              "    </tr>\n",
              "    <tr>\n",
              "      <th>4</th>\n",
              "      <td>17166</td>\n",
              "      <td>[356, 357]</td>\n",
              "    </tr>\n",
              "    <tr>\n",
              "      <th>...</th>\n",
              "      <td>...</td>\n",
              "      <td>...</td>\n",
              "    </tr>\n",
              "    <tr>\n",
              "      <th>12651</th>\n",
              "      <td>2179430</td>\n",
              "      <td>[566, 750]</td>\n",
              "    </tr>\n",
              "    <tr>\n",
              "      <th>12652</th>\n",
              "      <td>2186581</td>\n",
              "      <td>[794, 864, 1129]</td>\n",
              "    </tr>\n",
              "    <tr>\n",
              "      <th>12653</th>\n",
              "      <td>2187601</td>\n",
              "      <td>[356, 553, 571, 765, 912]</td>\n",
              "    </tr>\n",
              "    <tr>\n",
              "      <th>12654</th>\n",
              "      <td>2188926</td>\n",
              "      <td>[515, 743]</td>\n",
              "    </tr>\n",
              "    <tr>\n",
              "      <th>12655</th>\n",
              "      <td>2190141</td>\n",
              "      <td>[756, 794, 1185]</td>\n",
              "    </tr>\n",
              "  </tbody>\n",
              "</table>\n",
              "<p>12656 rows × 2 columns</p>\n",
              "</div>"
            ],
            "text/plain": [
              "       user_id                resource_id\n",
              "0           51                [516, 1099]\n",
              "1         6117           [356, 357, 1125]\n",
              "2        10275                [553, 1147]\n",
              "3        10457                [361, 1138]\n",
              "4        17166                 [356, 357]\n",
              "...        ...                        ...\n",
              "12651  2179430                 [566, 750]\n",
              "12652  2186581           [794, 864, 1129]\n",
              "12653  2187601  [356, 553, 571, 765, 912]\n",
              "12654  2188926                 [515, 743]\n",
              "12655  2190141           [756, 794, 1185]\n",
              "\n",
              "[12656 rows x 2 columns]"
            ]
          },
          "execution_count": 7,
          "metadata": {},
          "output_type": "execute_result"
        }
      ],
      "source": [
        "df_together_courses['resource_id'] = df_together_courses['resource_id'].apply(lambda x: sorted(x))\n",
        "df_together_courses"
      ]
    },
    {
      "cell_type": "markdown",
      "metadata": {
        "id": "mhO2oZjCtOOW"
      },
      "source": [
        "Разобьем списки курсов на возможные пары курсов и подсчитаем количество полученных уникальных пар"
      ]
    },
    {
      "cell_type": "code",
      "execution_count": null,
      "metadata": {
        "id": "G0oVnljTtOOW"
      },
      "outputs": [],
      "source": [
        "courses_list = []\n",
        "for courses in df_together_courses['resource_id']:\n",
        "    for course_pair in itertools.combinations(courses, 2):\n",
        "        courses_list.append(course_pair)"
      ]
    },
    {
      "cell_type": "code",
      "execution_count": null,
      "metadata": {
        "id": "xYfVd_bctOOW",
        "outputId": "4985f6aa-68a7-4191-dc77-dae18e2a3912"
      },
      "outputs": [
        {
          "data": {
            "text/plain": [
              "3989"
            ]
          },
          "execution_count": 9,
          "metadata": {},
          "output_type": "execute_result"
        }
      ],
      "source": [
        "len(set(courses_list))"
      ]
    },
    {
      "cell_type": "markdown",
      "metadata": {
        "id": "msckH1zFtOOX"
      },
      "source": [
        "55.3.7 Найдите самую популярную пару курсов. Какие у них ID?"
      ]
    },
    {
      "cell_type": "code",
      "execution_count": null,
      "metadata": {
        "id": "p5XFLP-WtOOX"
      },
      "outputs": [],
      "source": [
        "from collections import Counter\n",
        "cntr_crs_pair = Counter(courses_list)\n",
        "cntr_crs_pair = {k: cntr_crs_pair[k] for k in sorted(cntr_crs_pair,  key=cntr_crs_pair.get, reverse=True)}\n",
        "cntr_crs_pair"
      ]
    },
    {
      "cell_type": "code",
      "execution_count": null,
      "metadata": {
        "id": "I3M7WMbstOOY",
        "outputId": "2af996f4-aa76-4eaa-8549-fad36e57c1f7"
      },
      "outputs": [
        {
          "data": {
            "text/plain": [
              "(551, 566)"
            ]
          },
          "execution_count": 11,
          "metadata": {},
          "output_type": "execute_result"
        }
      ],
      "source": [
        "Counter(courses_list).most_common(1)[0][0]"
      ]
    },
    {
      "cell_type": "markdown",
      "metadata": {
        "id": "rUjA0qOxtOOZ"
      },
      "source": [
        "Самая популярная пара курсов с ID 551 и 556, всего данная пара встречалась у 797 пользователей"
      ]
    },
    {
      "cell_type": "markdown",
      "metadata": {
        "id": "64qTbE8rtOOa"
      },
      "source": [
        "## Финальный шаг. Составление отчета\n",
        "\n",
        "Оформим таблицу с рекомендациями для продакт-менеджера и отдела маркетинга.\n",
        "\n",
        "Составим таблицу с тремя столбцами:\n",
        "\n",
        " - Столбец 1. Курс, к которому идёт рекомендация\n",
        " - Столбец 2. Курс для рекомендации № 1 (самый популярный)\n",
        " - Столбец 3. Курс для рекомендации № 2 (второй по популярности).\n",
        "\n",
        "А что делать, если одна из рекомендаций встречается слишком мало раз? В таком случае, во-первых, нужно установить минимальную границу — какое количество считать слишком малым. А во-вторых, вместо такого малопопулярного курса выводите какой-то другой курс, который, на ваш аргументированный взгляд, подходит лучше."
      ]
    },
    {
      "cell_type": "markdown",
      "metadata": {
        "id": "K2wOV6UotOOa"
      },
      "source": [
        "Определим количество уникальных курсов - это будет соответствовать количеству строк в нашей таблице"
      ]
    },
    {
      "cell_type": "code",
      "execution_count": null,
      "metadata": {
        "id": "0X0-PCQvtOOc",
        "outputId": "fb9d1606-381e-4583-8010-b19e0723b287"
      },
      "outputs": [
        {
          "data": {
            "text/plain": [
              "126"
            ]
          },
          "execution_count": 12,
          "metadata": {},
          "output_type": "execute_result"
        }
      ],
      "source": [
        "len(df['resource_id'].unique())"
      ]
    },
    {
      "cell_type": "markdown",
      "metadata": {
        "id": "HoAjTlx1tOOd"
      },
      "source": [
        "Создадим датафрейм из пар курсов и частотности их совместных покупок"
      ]
    },
    {
      "cell_type": "code",
      "execution_count": null,
      "metadata": {
        "id": "E9h2Dm0xtOOe",
        "outputId": "6c10517c-7efd-44e4-f989-ebfa389530b2"
      },
      "outputs": [
        {
          "data": {
            "text/html": [
              "<div>\n",
              "<style scoped>\n",
              "    .dataframe tbody tr th:only-of-type {\n",
              "        vertical-align: middle;\n",
              "    }\n",
              "\n",
              "    .dataframe tbody tr th {\n",
              "        vertical-align: top;\n",
              "    }\n",
              "\n",
              "    .dataframe thead th {\n",
              "        text-align: right;\n",
              "    }\n",
              "</style>\n",
              "<table border=\"1\" class=\"dataframe\">\n",
              "  <thead>\n",
              "    <tr style=\"text-align: right;\">\n",
              "      <th></th>\n",
              "      <th>pairs</th>\n",
              "      <th>count</th>\n",
              "    </tr>\n",
              "  </thead>\n",
              "  <tbody>\n",
              "    <tr>\n",
              "      <th>0</th>\n",
              "      <td>(551, 566)</td>\n",
              "      <td>797</td>\n",
              "    </tr>\n",
              "    <tr>\n",
              "      <th>1</th>\n",
              "      <td>(515, 551)</td>\n",
              "      <td>417</td>\n",
              "    </tr>\n",
              "    <tr>\n",
              "      <th>2</th>\n",
              "      <td>(489, 551)</td>\n",
              "      <td>311</td>\n",
              "    </tr>\n",
              "    <tr>\n",
              "      <th>3</th>\n",
              "      <td>(523, 551)</td>\n",
              "      <td>304</td>\n",
              "    </tr>\n",
              "    <tr>\n",
              "      <th>4</th>\n",
              "      <td>(566, 794)</td>\n",
              "      <td>290</td>\n",
              "    </tr>\n",
              "    <tr>\n",
              "      <th>...</th>\n",
              "      <td>...</td>\n",
              "      <td>...</td>\n",
              "    </tr>\n",
              "    <tr>\n",
              "      <th>3984</th>\n",
              "      <td>(741, 791)</td>\n",
              "      <td>1</td>\n",
              "    </tr>\n",
              "    <tr>\n",
              "      <th>3985</th>\n",
              "      <td>(361, 1128)</td>\n",
              "      <td>1</td>\n",
              "    </tr>\n",
              "    <tr>\n",
              "      <th>3986</th>\n",
              "      <td>(743, 1156)</td>\n",
              "      <td>1</td>\n",
              "    </tr>\n",
              "    <tr>\n",
              "      <th>3987</th>\n",
              "      <td>(864, 1129)</td>\n",
              "      <td>1</td>\n",
              "    </tr>\n",
              "    <tr>\n",
              "      <th>3988</th>\n",
              "      <td>(756, 1185)</td>\n",
              "      <td>1</td>\n",
              "    </tr>\n",
              "  </tbody>\n",
              "</table>\n",
              "<p>3989 rows × 2 columns</p>\n",
              "</div>"
            ],
            "text/plain": [
              "            pairs  count\n",
              "0      (551, 566)    797\n",
              "1      (515, 551)    417\n",
              "2      (489, 551)    311\n",
              "3      (523, 551)    304\n",
              "4      (566, 794)    290\n",
              "...           ...    ...\n",
              "3984   (741, 791)      1\n",
              "3985  (361, 1128)      1\n",
              "3986  (743, 1156)      1\n",
              "3987  (864, 1129)      1\n",
              "3988  (756, 1185)      1\n",
              "\n",
              "[3989 rows x 2 columns]"
            ]
          },
          "execution_count": 13,
          "metadata": {},
          "output_type": "execute_result"
        }
      ],
      "source": [
        "df_cnt = pd.DataFrame(Counter(courses_list).most_common(), columns=['pairs', 'count'])\n",
        "df_cnt"
      ]
    },
    {
      "cell_type": "markdown",
      "metadata": {
        "id": "FT9ENyZ-tOOe"
      },
      "source": [
        "Расклеим пары и запишем в столбец `course` - курс, к которому идет рекомендация, а в столбце `course_rec` - курс для рекомендации. Таким образом, каждую пару необходимо записать два раза - сначала первый курс из пары попадает в столбец `course`, затем в столбец `course_rec`.  \n",
        "Создадим для первого и второго случая два датафрейма, применим к ним соответствующие преобразования, а затем объединим."
      ]
    },
    {
      "cell_type": "code",
      "execution_count": null,
      "metadata": {
        "id": "KCxU4F_ItOOf"
      },
      "outputs": [],
      "source": [
        "df_1 = df_cnt.copy()\n",
        "df_2 = df_cnt.copy()\n",
        "\n",
        "df_1['course'] = df_1['pairs'].apply(lambda x: x[0])\n",
        "df_1['course_rec'] = df_1['pairs'].apply(lambda x: x[1])\n",
        "\n",
        "df_2['course'] = df_2['pairs'].apply(lambda x: x[1])\n",
        "df_2['course_rec'] = df_2['pairs'].apply(lambda x: x[0])"
      ]
    },
    {
      "cell_type": "code",
      "execution_count": null,
      "metadata": {
        "id": "xVEUi7IGtOOf",
        "outputId": "5bf5e815-1b8a-4eab-a2f1-4cee0d26749e"
      },
      "outputs": [
        {
          "data": {
            "text/plain": [
              "(            pairs  count  course  course_rec\n",
              " 0      (551, 566)    797     551         566\n",
              " 1      (515, 551)    417     515         551\n",
              " 2      (489, 551)    311     489         551\n",
              " 3      (523, 551)    304     523         551\n",
              " 4      (566, 794)    290     566         794\n",
              " ...           ...    ...     ...         ...\n",
              " 3984   (741, 791)      1     741         791\n",
              " 3985  (361, 1128)      1     361        1128\n",
              " 3986  (743, 1156)      1     743        1156\n",
              " 3987  (864, 1129)      1     864        1129\n",
              " 3988  (756, 1185)      1     756        1185\n",
              " \n",
              " [3989 rows x 4 columns],\n",
              "             pairs  count  course  course_rec\n",
              " 0      (551, 566)    797     566         551\n",
              " 1      (515, 551)    417     551         515\n",
              " 2      (489, 551)    311     551         489\n",
              " 3      (523, 551)    304     551         523\n",
              " 4      (566, 794)    290     794         566\n",
              " ...           ...    ...     ...         ...\n",
              " 3984   (741, 791)      1     791         741\n",
              " 3985  (361, 1128)      1    1128         361\n",
              " 3986  (743, 1156)      1    1156         743\n",
              " 3987  (864, 1129)      1    1129         864\n",
              " 3988  (756, 1185)      1    1185         756\n",
              " \n",
              " [3989 rows x 4 columns])"
            ]
          },
          "execution_count": 15,
          "metadata": {},
          "output_type": "execute_result"
        }
      ],
      "source": [
        "df_1, df_2"
      ]
    },
    {
      "cell_type": "code",
      "execution_count": null,
      "metadata": {
        "id": "bDL07M0jtOOg",
        "outputId": "f7e0bf76-7750-4aa1-d65a-08454752c766"
      },
      "outputs": [
        {
          "data": {
            "text/html": [
              "<div>\n",
              "<style scoped>\n",
              "    .dataframe tbody tr th:only-of-type {\n",
              "        vertical-align: middle;\n",
              "    }\n",
              "\n",
              "    .dataframe tbody tr th {\n",
              "        vertical-align: top;\n",
              "    }\n",
              "\n",
              "    .dataframe thead th {\n",
              "        text-align: right;\n",
              "    }\n",
              "</style>\n",
              "<table border=\"1\" class=\"dataframe\">\n",
              "  <thead>\n",
              "    <tr style=\"text-align: right;\">\n",
              "      <th></th>\n",
              "      <th>pairs</th>\n",
              "      <th>count</th>\n",
              "      <th>course</th>\n",
              "      <th>course_rec</th>\n",
              "    </tr>\n",
              "  </thead>\n",
              "  <tbody>\n",
              "    <tr>\n",
              "      <th>0</th>\n",
              "      <td>(551, 566)</td>\n",
              "      <td>797</td>\n",
              "      <td>551</td>\n",
              "      <td>566</td>\n",
              "    </tr>\n",
              "    <tr>\n",
              "      <th>1</th>\n",
              "      <td>(515, 551)</td>\n",
              "      <td>417</td>\n",
              "      <td>515</td>\n",
              "      <td>551</td>\n",
              "    </tr>\n",
              "    <tr>\n",
              "      <th>2</th>\n",
              "      <td>(489, 551)</td>\n",
              "      <td>311</td>\n",
              "      <td>489</td>\n",
              "      <td>551</td>\n",
              "    </tr>\n",
              "    <tr>\n",
              "      <th>3</th>\n",
              "      <td>(523, 551)</td>\n",
              "      <td>304</td>\n",
              "      <td>523</td>\n",
              "      <td>551</td>\n",
              "    </tr>\n",
              "    <tr>\n",
              "      <th>4</th>\n",
              "      <td>(566, 794)</td>\n",
              "      <td>290</td>\n",
              "      <td>566</td>\n",
              "      <td>794</td>\n",
              "    </tr>\n",
              "    <tr>\n",
              "      <th>...</th>\n",
              "      <td>...</td>\n",
              "      <td>...</td>\n",
              "      <td>...</td>\n",
              "      <td>...</td>\n",
              "    </tr>\n",
              "    <tr>\n",
              "      <th>7973</th>\n",
              "      <td>(741, 791)</td>\n",
              "      <td>1</td>\n",
              "      <td>791</td>\n",
              "      <td>741</td>\n",
              "    </tr>\n",
              "    <tr>\n",
              "      <th>7974</th>\n",
              "      <td>(361, 1128)</td>\n",
              "      <td>1</td>\n",
              "      <td>1128</td>\n",
              "      <td>361</td>\n",
              "    </tr>\n",
              "    <tr>\n",
              "      <th>7975</th>\n",
              "      <td>(743, 1156)</td>\n",
              "      <td>1</td>\n",
              "      <td>1156</td>\n",
              "      <td>743</td>\n",
              "    </tr>\n",
              "    <tr>\n",
              "      <th>7976</th>\n",
              "      <td>(864, 1129)</td>\n",
              "      <td>1</td>\n",
              "      <td>1129</td>\n",
              "      <td>864</td>\n",
              "    </tr>\n",
              "    <tr>\n",
              "      <th>7977</th>\n",
              "      <td>(756, 1185)</td>\n",
              "      <td>1</td>\n",
              "      <td>1185</td>\n",
              "      <td>756</td>\n",
              "    </tr>\n",
              "  </tbody>\n",
              "</table>\n",
              "<p>7978 rows × 4 columns</p>\n",
              "</div>"
            ],
            "text/plain": [
              "            pairs  count  course  course_rec\n",
              "0      (551, 566)    797     551         566\n",
              "1      (515, 551)    417     515         551\n",
              "2      (489, 551)    311     489         551\n",
              "3      (523, 551)    304     523         551\n",
              "4      (566, 794)    290     566         794\n",
              "...           ...    ...     ...         ...\n",
              "7973   (741, 791)      1     791         741\n",
              "7974  (361, 1128)      1    1128         361\n",
              "7975  (743, 1156)      1    1156         743\n",
              "7976  (864, 1129)      1    1129         864\n",
              "7977  (756, 1185)      1    1185         756\n",
              "\n",
              "[7978 rows x 4 columns]"
            ]
          },
          "execution_count": 16,
          "metadata": {},
          "output_type": "execute_result"
        }
      ],
      "source": [
        "df_common = pd.concat([df_1, df_2]).reset_index(drop=True)\n",
        "df_common"
      ]
    },
    {
      "cell_type": "markdown",
      "metadata": {
        "id": "-4laX8nwtOOh"
      },
      "source": [
        "Для каждого курса из столбца `course` найдем ранг соответствующей ей пары, который будет присваиваться в порядке убывания частотности их совместных покупок, т.е. по столбцу `count`"
      ]
    },
    {
      "cell_type": "code",
      "execution_count": null,
      "metadata": {
        "id": "F34MpX_NtOOh"
      },
      "outputs": [],
      "source": [
        "df_common['rank'] = df_common.sort_values(by='count', ascending=False).groupby('course').cumcount()+1\n"
      ]
    },
    {
      "cell_type": "markdown",
      "metadata": {
        "id": "UOLJqWCftOOh"
      },
      "source": [
        "Посмотри как выглядит наша таблица для одного конкретного курса"
      ]
    },
    {
      "cell_type": "code",
      "execution_count": null,
      "metadata": {
        "id": "toLABo2BtOOi",
        "outputId": "92cbc332-eea8-4ac1-d3b7-c4de462233b6"
      },
      "outputs": [
        {
          "data": {
            "text/html": [
              "<div>\n",
              "<style scoped>\n",
              "    .dataframe tbody tr th:only-of-type {\n",
              "        vertical-align: middle;\n",
              "    }\n",
              "\n",
              "    .dataframe tbody tr th {\n",
              "        vertical-align: top;\n",
              "    }\n",
              "\n",
              "    .dataframe thead th {\n",
              "        text-align: right;\n",
              "    }\n",
              "</style>\n",
              "<table border=\"1\" class=\"dataframe\">\n",
              "  <thead>\n",
              "    <tr style=\"text-align: right;\">\n",
              "      <th></th>\n",
              "      <th>pairs</th>\n",
              "      <th>count</th>\n",
              "      <th>course</th>\n",
              "      <th>course_rec</th>\n",
              "      <th>rank</th>\n",
              "    </tr>\n",
              "  </thead>\n",
              "  <tbody>\n",
              "    <tr>\n",
              "      <th>0</th>\n",
              "      <td>(551, 566)</td>\n",
              "      <td>797</td>\n",
              "      <td>551</td>\n",
              "      <td>566</td>\n",
              "      <td>1</td>\n",
              "    </tr>\n",
              "    <tr>\n",
              "      <th>3990</th>\n",
              "      <td>(515, 551)</td>\n",
              "      <td>417</td>\n",
              "      <td>551</td>\n",
              "      <td>515</td>\n",
              "      <td>2</td>\n",
              "    </tr>\n",
              "    <tr>\n",
              "      <th>3991</th>\n",
              "      <td>(489, 551)</td>\n",
              "      <td>311</td>\n",
              "      <td>551</td>\n",
              "      <td>489</td>\n",
              "      <td>3</td>\n",
              "    </tr>\n",
              "    <tr>\n",
              "      <th>3992</th>\n",
              "      <td>(523, 551)</td>\n",
              "      <td>304</td>\n",
              "      <td>551</td>\n",
              "      <td>523</td>\n",
              "      <td>4</td>\n",
              "    </tr>\n",
              "    <tr>\n",
              "      <th>3996</th>\n",
              "      <td>(490, 551)</td>\n",
              "      <td>247</td>\n",
              "      <td>551</td>\n",
              "      <td>490</td>\n",
              "      <td>5</td>\n",
              "    </tr>\n",
              "    <tr>\n",
              "      <th>...</th>\n",
              "      <td>...</td>\n",
              "      <td>...</td>\n",
              "      <td>...</td>\n",
              "      <td>...</td>\n",
              "      <td>...</td>\n",
              "    </tr>\n",
              "    <tr>\n",
              "      <th>6918</th>\n",
              "      <td>(360, 551)</td>\n",
              "      <td>1</td>\n",
              "      <td>551</td>\n",
              "      <td>360</td>\n",
              "      <td>113</td>\n",
              "    </tr>\n",
              "    <tr>\n",
              "      <th>3204</th>\n",
              "      <td>(551, 1182)</td>\n",
              "      <td>1</td>\n",
              "      <td>551</td>\n",
              "      <td>1182</td>\n",
              "      <td>114</td>\n",
              "    </tr>\n",
              "    <tr>\n",
              "      <th>3170</th>\n",
              "      <td>(551, 866)</td>\n",
              "      <td>1</td>\n",
              "      <td>551</td>\n",
              "      <td>866</td>\n",
              "      <td>115</td>\n",
              "    </tr>\n",
              "    <tr>\n",
              "      <th>3824</th>\n",
              "      <td>(551, 830)</td>\n",
              "      <td>1</td>\n",
              "      <td>551</td>\n",
              "      <td>830</td>\n",
              "      <td>116</td>\n",
              "    </tr>\n",
              "    <tr>\n",
              "      <th>3107</th>\n",
              "      <td>(551, 836)</td>\n",
              "      <td>1</td>\n",
              "      <td>551</td>\n",
              "      <td>836</td>\n",
              "      <td>117</td>\n",
              "    </tr>\n",
              "  </tbody>\n",
              "</table>\n",
              "<p>117 rows × 5 columns</p>\n",
              "</div>"
            ],
            "text/plain": [
              "            pairs  count  course  course_rec  rank\n",
              "0      (551, 566)    797     551         566     1\n",
              "3990   (515, 551)    417     551         515     2\n",
              "3991   (489, 551)    311     551         489     3\n",
              "3992   (523, 551)    304     551         523     4\n",
              "3996   (490, 551)    247     551         490     5\n",
              "...           ...    ...     ...         ...   ...\n",
              "6918   (360, 551)      1     551         360   113\n",
              "3204  (551, 1182)      1     551        1182   114\n",
              "3170   (551, 866)      1     551         866   115\n",
              "3824   (551, 830)      1     551         830   116\n",
              "3107   (551, 836)      1     551         836   117\n",
              "\n",
              "[117 rows x 5 columns]"
            ]
          },
          "execution_count": 18,
          "metadata": {},
          "output_type": "execute_result"
        }
      ],
      "source": [
        "df_common[df_common['course'] == 551].sort_values('rank')"
      ]
    },
    {
      "cell_type": "markdown",
      "metadata": {
        "id": "elBfWXRwtOOi"
      },
      "source": [
        "Каждая пара должна быть представлена в нашей таблице двумя записями"
      ]
    },
    {
      "cell_type": "code",
      "execution_count": null,
      "metadata": {
        "id": "AhxqkeMPtOOi",
        "outputId": "9b30922b-9664-4a2c-e122-c5a3cb02e72a"
      },
      "outputs": [
        {
          "data": {
            "text/html": [
              "<div>\n",
              "<style scoped>\n",
              "    .dataframe tbody tr th:only-of-type {\n",
              "        vertical-align: middle;\n",
              "    }\n",
              "\n",
              "    .dataframe tbody tr th {\n",
              "        vertical-align: top;\n",
              "    }\n",
              "\n",
              "    .dataframe thead th {\n",
              "        text-align: right;\n",
              "    }\n",
              "</style>\n",
              "<table border=\"1\" class=\"dataframe\">\n",
              "  <thead>\n",
              "    <tr style=\"text-align: right;\">\n",
              "      <th></th>\n",
              "      <th>pairs</th>\n",
              "      <th>count</th>\n",
              "      <th>course</th>\n",
              "      <th>course_rec</th>\n",
              "      <th>rank</th>\n",
              "    </tr>\n",
              "  </thead>\n",
              "  <tbody>\n",
              "    <tr>\n",
              "      <th>2929</th>\n",
              "      <td>(360, 551)</td>\n",
              "      <td>1</td>\n",
              "      <td>360</td>\n",
              "      <td>551</td>\n",
              "      <td>31</td>\n",
              "    </tr>\n",
              "    <tr>\n",
              "      <th>6918</th>\n",
              "      <td>(360, 551)</td>\n",
              "      <td>1</td>\n",
              "      <td>551</td>\n",
              "      <td>360</td>\n",
              "      <td>113</td>\n",
              "    </tr>\n",
              "  </tbody>\n",
              "</table>\n",
              "</div>"
            ],
            "text/plain": [
              "           pairs  count  course  course_rec  rank\n",
              "2929  (360, 551)      1     360         551    31\n",
              "6918  (360, 551)      1     551         360   113"
            ]
          },
          "execution_count": 19,
          "metadata": {},
          "output_type": "execute_result"
        }
      ],
      "source": [
        "df_common[df_common['pairs'] == tuple((360, 551))]"
      ]
    },
    {
      "cell_type": "markdown",
      "metadata": {
        "id": "B7iIJwmDtOOi"
      },
      "source": [
        "Оставим только записи соответствующие первому и второму рангу, удалим столбец `pairs`"
      ]
    },
    {
      "cell_type": "code",
      "execution_count": null,
      "metadata": {
        "id": "XrLrh3s9tOOj"
      },
      "outputs": [],
      "source": [
        "df_common = df_common[(df_common['rank'] == 1) | (df_common['rank'] == 2)]\n",
        "df_common.drop('pairs', axis=1, inplace=True)"
      ]
    },
    {
      "cell_type": "code",
      "execution_count": null,
      "metadata": {
        "id": "YNgDusUWtOOk",
        "outputId": "9c9a0c35-4f96-43cc-8124-dbd2eedfbf90"
      },
      "outputs": [
        {
          "data": {
            "text/html": [
              "<div>\n",
              "<style scoped>\n",
              "    .dataframe tbody tr th:only-of-type {\n",
              "        vertical-align: middle;\n",
              "    }\n",
              "\n",
              "    .dataframe tbody tr th {\n",
              "        vertical-align: top;\n",
              "    }\n",
              "\n",
              "    .dataframe thead th {\n",
              "        text-align: right;\n",
              "    }\n",
              "</style>\n",
              "<table border=\"1\" class=\"dataframe\">\n",
              "  <thead>\n",
              "    <tr style=\"text-align: right;\">\n",
              "      <th></th>\n",
              "      <th>count</th>\n",
              "      <th>course</th>\n",
              "      <th>course_rec</th>\n",
              "      <th>rank</th>\n",
              "    </tr>\n",
              "  </thead>\n",
              "  <tbody>\n",
              "    <tr>\n",
              "      <th>0</th>\n",
              "      <td>797</td>\n",
              "      <td>551</td>\n",
              "      <td>566</td>\n",
              "      <td>1</td>\n",
              "    </tr>\n",
              "    <tr>\n",
              "      <th>3990</th>\n",
              "      <td>417</td>\n",
              "      <td>551</td>\n",
              "      <td>515</td>\n",
              "      <td>2</td>\n",
              "    </tr>\n",
              "  </tbody>\n",
              "</table>\n",
              "</div>"
            ],
            "text/plain": [
              "      count  course  course_rec  rank\n",
              "0       797     551         566     1\n",
              "3990    417     551         515     2"
            ]
          },
          "execution_count": 21,
          "metadata": {},
          "output_type": "execute_result"
        }
      ],
      "source": [
        "df_common[df_common['course'] == 551]"
      ]
    },
    {
      "cell_type": "markdown",
      "metadata": {
        "id": "qo4m4NrgtOOk"
      },
      "source": [
        "Каждый курс представлен в таблице двумя записями, соответствующие наиболее популярной с ним паре и второй по популярности. Оставим одну строку для каждого курса, а второй по популярности запишем рядом"
      ]
    },
    {
      "cell_type": "code",
      "execution_count": null,
      "metadata": {
        "id": "1SabWBXCtOOk"
      },
      "outputs": [],
      "source": [
        "df_rec = df_common[df_common['rank'] == 1].merge(df_common[df_common['rank'] == 2], on='course', how='left', suffixes=('_1', '_2'))"
      ]
    },
    {
      "cell_type": "code",
      "execution_count": null,
      "metadata": {
        "id": "KaCxrKMttOOl",
        "outputId": "7dd9c7a2-ff91-459c-c705-4b6eae5c117b"
      },
      "outputs": [
        {
          "data": {
            "text/html": [
              "<div>\n",
              "<style scoped>\n",
              "    .dataframe tbody tr th:only-of-type {\n",
              "        vertical-align: middle;\n",
              "    }\n",
              "\n",
              "    .dataframe tbody tr th {\n",
              "        vertical-align: top;\n",
              "    }\n",
              "\n",
              "    .dataframe thead th {\n",
              "        text-align: right;\n",
              "    }\n",
              "</style>\n",
              "<table border=\"1\" class=\"dataframe\">\n",
              "  <thead>\n",
              "    <tr style=\"text-align: right;\">\n",
              "      <th></th>\n",
              "      <th>count_1</th>\n",
              "      <th>course</th>\n",
              "      <th>course_rec_1</th>\n",
              "      <th>rank_1</th>\n",
              "      <th>count_2</th>\n",
              "      <th>course_rec_2</th>\n",
              "      <th>rank_2</th>\n",
              "    </tr>\n",
              "  </thead>\n",
              "  <tbody>\n",
              "    <tr>\n",
              "      <th>0</th>\n",
              "      <td>797</td>\n",
              "      <td>551</td>\n",
              "      <td>566</td>\n",
              "      <td>1</td>\n",
              "      <td>417</td>\n",
              "      <td>515</td>\n",
              "      <td>2</td>\n",
              "    </tr>\n",
              "  </tbody>\n",
              "</table>\n",
              "</div>"
            ],
            "text/plain": [
              "   count_1  course  course_rec_1  rank_1  count_2  course_rec_2  rank_2\n",
              "0      797     551           566       1      417           515       2"
            ]
          },
          "execution_count": 23,
          "metadata": {},
          "output_type": "execute_result"
        }
      ],
      "source": [
        "df_rec[df_rec['course'] == 551]"
      ]
    },
    {
      "cell_type": "markdown",
      "metadata": {
        "id": "l1hVFYpjtOOl"
      },
      "source": [
        "Переставим столбцы для удобства восприятия"
      ]
    },
    {
      "cell_type": "code",
      "execution_count": null,
      "metadata": {
        "id": "Y46ff5XRtOOm",
        "outputId": "c7d4df0c-d6b0-4a5b-a21e-cda94c8b2b02"
      },
      "outputs": [
        {
          "data": {
            "text/html": [
              "<div>\n",
              "<style scoped>\n",
              "    .dataframe tbody tr th:only-of-type {\n",
              "        vertical-align: middle;\n",
              "    }\n",
              "\n",
              "    .dataframe tbody tr th {\n",
              "        vertical-align: top;\n",
              "    }\n",
              "\n",
              "    .dataframe thead th {\n",
              "        text-align: right;\n",
              "    }\n",
              "</style>\n",
              "<table border=\"1\" class=\"dataframe\">\n",
              "  <thead>\n",
              "    <tr style=\"text-align: right;\">\n",
              "      <th></th>\n",
              "      <th>course</th>\n",
              "      <th>course_rec_1</th>\n",
              "      <th>count_1</th>\n",
              "      <th>rank_1</th>\n",
              "      <th>course_rec_2</th>\n",
              "      <th>count_2</th>\n",
              "      <th>rank_2</th>\n",
              "    </tr>\n",
              "  </thead>\n",
              "  <tbody>\n",
              "    <tr>\n",
              "      <th>0</th>\n",
              "      <td>551</td>\n",
              "      <td>566</td>\n",
              "      <td>797</td>\n",
              "      <td>1</td>\n",
              "      <td>515</td>\n",
              "      <td>417</td>\n",
              "      <td>2</td>\n",
              "    </tr>\n",
              "    <tr>\n",
              "      <th>1</th>\n",
              "      <td>515</td>\n",
              "      <td>551</td>\n",
              "      <td>417</td>\n",
              "      <td>1</td>\n",
              "      <td>489</td>\n",
              "      <td>286</td>\n",
              "      <td>2</td>\n",
              "    </tr>\n",
              "    <tr>\n",
              "      <th>2</th>\n",
              "      <td>489</td>\n",
              "      <td>551</td>\n",
              "      <td>311</td>\n",
              "      <td>1</td>\n",
              "      <td>515</td>\n",
              "      <td>286</td>\n",
              "      <td>2</td>\n",
              "    </tr>\n",
              "    <tr>\n",
              "      <th>3</th>\n",
              "      <td>523</td>\n",
              "      <td>551</td>\n",
              "      <td>304</td>\n",
              "      <td>1</td>\n",
              "      <td>515</td>\n",
              "      <td>213</td>\n",
              "      <td>2</td>\n",
              "    </tr>\n",
              "    <tr>\n",
              "      <th>4</th>\n",
              "      <td>490</td>\n",
              "      <td>566</td>\n",
              "      <td>253</td>\n",
              "      <td>1</td>\n",
              "      <td>551</td>\n",
              "      <td>247</td>\n",
              "      <td>2</td>\n",
              "    </tr>\n",
              "    <tr>\n",
              "      <th>...</th>\n",
              "      <td>...</td>\n",
              "      <td>...</td>\n",
              "      <td>...</td>\n",
              "      <td>...</td>\n",
              "      <td>...</td>\n",
              "      <td>...</td>\n",
              "      <td>...</td>\n",
              "    </tr>\n",
              "    <tr>\n",
              "      <th>121</th>\n",
              "      <td>833</td>\n",
              "      <td>507</td>\n",
              "      <td>2</td>\n",
              "      <td>1</td>\n",
              "      <td>570</td>\n",
              "      <td>2</td>\n",
              "      <td>2</td>\n",
              "    </tr>\n",
              "    <tr>\n",
              "      <th>122</th>\n",
              "      <td>1201</td>\n",
              "      <td>571</td>\n",
              "      <td>1</td>\n",
              "      <td>1</td>\n",
              "      <td>1144</td>\n",
              "      <td>1</td>\n",
              "      <td>2</td>\n",
              "    </tr>\n",
              "    <tr>\n",
              "      <th>123</th>\n",
              "      <td>1182</td>\n",
              "      <td>553</td>\n",
              "      <td>1</td>\n",
              "      <td>1</td>\n",
              "      <td>1103</td>\n",
              "      <td>1</td>\n",
              "      <td>2</td>\n",
              "    </tr>\n",
              "    <tr>\n",
              "      <th>124</th>\n",
              "      <td>902</td>\n",
              "      <td>519</td>\n",
              "      <td>1</td>\n",
              "      <td>1</td>\n",
              "      <td>777</td>\n",
              "      <td>1</td>\n",
              "      <td>2</td>\n",
              "    </tr>\n",
              "    <tr>\n",
              "      <th>125</th>\n",
              "      <td>1200</td>\n",
              "      <td>866</td>\n",
              "      <td>1</td>\n",
              "      <td>1</td>\n",
              "      <td>1104</td>\n",
              "      <td>1</td>\n",
              "      <td>2</td>\n",
              "    </tr>\n",
              "  </tbody>\n",
              "</table>\n",
              "<p>126 rows × 7 columns</p>\n",
              "</div>"
            ],
            "text/plain": [
              "     course  course_rec_1  count_1  rank_1  course_rec_2  count_2  rank_2\n",
              "0       551           566      797       1           515      417       2\n",
              "1       515           551      417       1           489      286       2\n",
              "2       489           551      311       1           515      286       2\n",
              "3       523           551      304       1           515      213       2\n",
              "4       490           566      253       1           551      247       2\n",
              "..      ...           ...      ...     ...           ...      ...     ...\n",
              "121     833           507        2       1           570        2       2\n",
              "122    1201           571        1       1          1144        1       2\n",
              "123    1182           553        1       1          1103        1       2\n",
              "124     902           519        1       1           777        1       2\n",
              "125    1200           866        1       1          1104        1       2\n",
              "\n",
              "[126 rows x 7 columns]"
            ]
          },
          "execution_count": 24,
          "metadata": {},
          "output_type": "execute_result"
        }
      ],
      "source": [
        "df_rec = df_rec.reindex(columns=['course', 'course_rec_1', 'count_1', 'rank_1', 'course_rec_2', 'count_2', 'rank_2'])\n",
        "df_rec"
      ]
    },
    {
      "cell_type": "markdown",
      "metadata": {
        "id": "DneG92sntOOm"
      },
      "source": [
        "Устроим небольшую проверку исходя из первой строчки нашей таблицы: первым в списке рекомендации по курсу с ID 551 стоит курс 566 с количеством совместных покупок 797. Значит первым в списке рекомендации курса 566 должен быть курс 551 с таким же количеством покупок."
      ]
    },
    {
      "cell_type": "code",
      "execution_count": null,
      "metadata": {
        "id": "Von6RiLPtOOm",
        "outputId": "42e3e139-a9c0-487a-91cb-8c3f920cabdb"
      },
      "outputs": [
        {
          "data": {
            "text/html": [
              "<div>\n",
              "<style scoped>\n",
              "    .dataframe tbody tr th:only-of-type {\n",
              "        vertical-align: middle;\n",
              "    }\n",
              "\n",
              "    .dataframe tbody tr th {\n",
              "        vertical-align: top;\n",
              "    }\n",
              "\n",
              "    .dataframe thead th {\n",
              "        text-align: right;\n",
              "    }\n",
              "</style>\n",
              "<table border=\"1\" class=\"dataframe\">\n",
              "  <thead>\n",
              "    <tr style=\"text-align: right;\">\n",
              "      <th></th>\n",
              "      <th>course</th>\n",
              "      <th>course_rec_1</th>\n",
              "      <th>count_1</th>\n",
              "      <th>rank_1</th>\n",
              "      <th>course_rec_2</th>\n",
              "      <th>count_2</th>\n",
              "      <th>rank_2</th>\n",
              "    </tr>\n",
              "  </thead>\n",
              "  <tbody>\n",
              "    <tr>\n",
              "      <th>0</th>\n",
              "      <td>551</td>\n",
              "      <td>566</td>\n",
              "      <td>797</td>\n",
              "      <td>1</td>\n",
              "      <td>515</td>\n",
              "      <td>417</td>\n",
              "      <td>2</td>\n",
              "    </tr>\n",
              "  </tbody>\n",
              "</table>\n",
              "</div>"
            ],
            "text/plain": [
              "   course  course_rec_1  count_1  rank_1  course_rec_2  count_2  rank_2\n",
              "0     551           566      797       1           515      417       2"
            ]
          },
          "execution_count": 25,
          "metadata": {},
          "output_type": "execute_result"
        }
      ],
      "source": [
        "df_rec[df_rec['course']==551]"
      ]
    },
    {
      "cell_type": "code",
      "execution_count": null,
      "metadata": {
        "id": "yazHITnFtOOn",
        "outputId": "be6858ce-c38e-4ec9-c5d8-35eb3cd4ae24"
      },
      "outputs": [
        {
          "data": {
            "text/html": [
              "<div>\n",
              "<style scoped>\n",
              "    .dataframe tbody tr th:only-of-type {\n",
              "        vertical-align: middle;\n",
              "    }\n",
              "\n",
              "    .dataframe tbody tr th {\n",
              "        vertical-align: top;\n",
              "    }\n",
              "\n",
              "    .dataframe thead th {\n",
              "        text-align: right;\n",
              "    }\n",
              "</style>\n",
              "<table border=\"1\" class=\"dataframe\">\n",
              "  <thead>\n",
              "    <tr style=\"text-align: right;\">\n",
              "      <th></th>\n",
              "      <th>course</th>\n",
              "      <th>course_rec_1</th>\n",
              "      <th>count_1</th>\n",
              "      <th>rank_1</th>\n",
              "      <th>course_rec_2</th>\n",
              "      <th>count_2</th>\n",
              "      <th>rank_2</th>\n",
              "    </tr>\n",
              "  </thead>\n",
              "  <tbody>\n",
              "    <tr>\n",
              "      <th>39</th>\n",
              "      <td>566</td>\n",
              "      <td>551</td>\n",
              "      <td>797</td>\n",
              "      <td>1</td>\n",
              "      <td>794</td>\n",
              "      <td>290</td>\n",
              "      <td>2</td>\n",
              "    </tr>\n",
              "  </tbody>\n",
              "</table>\n",
              "</div>"
            ],
            "text/plain": [
              "    course  course_rec_1  count_1  rank_1  course_rec_2  count_2  rank_2\n",
              "39     566           551      797       1           794      290       2"
            ]
          },
          "execution_count": 26,
          "metadata": {},
          "output_type": "execute_result"
        }
      ],
      "source": [
        "df_rec[df_rec['course']==566]"
      ]
    },
    {
      "cell_type": "code",
      "execution_count": null,
      "metadata": {
        "id": "oYfSqXzZtOOn",
        "outputId": "7eeb9e85-e2cb-4b17-a73d-6483ec69f36d"
      },
      "outputs": [
        {
          "data": {
            "text/html": [
              "<div>\n",
              "<style scoped>\n",
              "    .dataframe tbody tr th:only-of-type {\n",
              "        vertical-align: middle;\n",
              "    }\n",
              "\n",
              "    .dataframe tbody tr th {\n",
              "        vertical-align: top;\n",
              "    }\n",
              "\n",
              "    .dataframe thead th {\n",
              "        text-align: right;\n",
              "    }\n",
              "</style>\n",
              "<table border=\"1\" class=\"dataframe\">\n",
              "  <thead>\n",
              "    <tr style=\"text-align: right;\">\n",
              "      <th></th>\n",
              "      <th>course</th>\n",
              "      <th>course_rec_1</th>\n",
              "      <th>count_1</th>\n",
              "      <th>rank_1</th>\n",
              "      <th>course_rec_2</th>\n",
              "      <th>count_2</th>\n",
              "      <th>rank_2</th>\n",
              "    </tr>\n",
              "  </thead>\n",
              "  <tbody>\n",
              "    <tr>\n",
              "      <th>1</th>\n",
              "      <td>515</td>\n",
              "      <td>551</td>\n",
              "      <td>417</td>\n",
              "      <td>1</td>\n",
              "      <td>489</td>\n",
              "      <td>286</td>\n",
              "      <td>2</td>\n",
              "    </tr>\n",
              "  </tbody>\n",
              "</table>\n",
              "</div>"
            ],
            "text/plain": [
              "   course  course_rec_1  count_1  rank_1  course_rec_2  count_2  rank_2\n",
              "1     515           551      417       1           489      286       2"
            ]
          },
          "execution_count": 27,
          "metadata": {},
          "output_type": "execute_result"
        }
      ],
      "source": [
        "df_rec[df_rec['course']==515]"
      ]
    },
    {
      "cell_type": "markdown",
      "metadata": {
        "id": "I6EX746HtOOo"
      },
      "source": [
        "Посмотрим на распределение курсов в порядке убывания максимальных частотностей совместных покупок с другими курсами."
      ]
    },
    {
      "cell_type": "code",
      "execution_count": null,
      "metadata": {
        "scrolled": true,
        "id": "zyaYoWmOtOOo",
        "outputId": "1df0a421-d082-4da7-d98f-8aa76f5a6fb5"
      },
      "outputs": [
        {
          "data": {
            "image/png": "[encoded data removed]",
            "text/plain": [
              "<Figure size 1440x1800 with 2 Axes>"
            ]
          },
          "metadata": {
            "needs_background": "light"
          },
          "output_type": "display_data"
        }
      ],
      "source": [
        "plt.figure(figsize=(20,25))\n",
        "plt.subplot(1,2,1)\n",
        "sns.barplot(data=df_rec, y='course', x='count_1', order=df_rec.sort_values(by='count_1', ascending=False)['course'],  orient='h')\n",
        "plt.xticks(range(0,800,50))\n",
        "plt.title('Количество совместных покупок с первым по популярности курсом')\n",
        "plt.grid()\n",
        "\n",
        "plt.subplot(1,2,2)\n",
        "sns.barplot(data=df_rec, y='course', x='count_2', order=df_rec.sort_values(by='count_2', ascending=False)['course'],  orient='h')\n",
        "plt.title('Количество совместных покупок со вторым по популярности курсом')\n",
        "plt.xticks(range(0,800,50))\n",
        "plt.grid()"
      ]
    },
    {
      "cell_type": "markdown",
      "metadata": {
        "id": "6mJWKSEUtOOp"
      },
      "source": [
        "Наиболее популярными являются курсы 551 и 566, количество совместных покупок по ним достигает максимальных значений в районе 800, следующий по популярности курс 515 уже практически в два раза менее популярен при совместных покупках. Ряд курсов практически не приобретается совместно с какими-либо другими курсами.  \n",
        "Посмотрим также на боксплот распределения количества совместных покупок `count_1`"
      ]
    },
    {
      "cell_type": "code",
      "execution_count": null,
      "metadata": {
        "scrolled": true,
        "id": "90_fP3zltOOp",
        "outputId": "b5704b57-48a2-4efc-a442-0657798c38ab"
      },
      "outputs": [
        {
          "data": {
            "image/png": "[encoded data removed]",
            "text/plain": [
              "<Figure size 1800x360 with 1 Axes>"
            ]
          },
          "metadata": {
            "needs_background": "light"
          },
          "output_type": "display_data"
        }
      ],
      "source": [
        "plt.figure(figsize=(25,5))\n",
        "sns.boxplot(data=df_rec, x='count_1')\n",
        "plt.xlim([0,300])\n",
        "plt.xticks(range(0,300,10))\n",
        "plt.grid()"
      ]
    },
    {
      "cell_type": "code",
      "execution_count": null,
      "metadata": {
        "id": "wWFVYOo0tOOq",
        "outputId": "d26324f5-9ef2-4487-d015-f360c83f8ad9"
      },
      "outputs": [
        {
          "data": {
            "text/plain": [
              "count    252.000000\n",
              "mean      67.515873\n",
              "std       99.771551\n",
              "min        1.000000\n",
              "25%       13.750000\n",
              "50%       33.500000\n",
              "75%       78.500000\n",
              "max      797.000000\n",
              "Name: count, dtype: float64"
            ]
          },
          "execution_count": 30,
          "metadata": {},
          "output_type": "execute_result"
        }
      ],
      "source": [
        "df_common['count'].describe()"
      ]
    },
    {
      "cell_type": "markdown",
      "metadata": {
        "id": "UvIhhnBxtOOq"
      },
      "source": [
        "В районе нуля достаточно много курсов, явных выбросов в левой части боксплота нет. К первой квартили относятся курсы с максимальным количеством парных покупок менее 14-ти. Возьмем данную границу в качестве минимальной, при значениях менее данного уровня, будем предлагать два наиболее популярных курса из нашей выборки."
      ]
    },
    {
      "cell_type": "code",
      "execution_count": null,
      "metadata": {
        "id": "5hsg3YTLtOOr",
        "outputId": "c92df44f-7851-4047-fc76-ed27e30f31ff"
      },
      "outputs": [
        {
          "data": {
            "text/html": [
              "<div>\n",
              "<style scoped>\n",
              "    .dataframe tbody tr th:only-of-type {\n",
              "        vertical-align: middle;\n",
              "    }\n",
              "\n",
              "    .dataframe tbody tr th {\n",
              "        vertical-align: top;\n",
              "    }\n",
              "\n",
              "    .dataframe thead th {\n",
              "        text-align: right;\n",
              "    }\n",
              "</style>\n",
              "<table border=\"1\" class=\"dataframe\">\n",
              "  <thead>\n",
              "    <tr style=\"text-align: right;\">\n",
              "      <th></th>\n",
              "      <th>course</th>\n",
              "      <th>course_rec_1</th>\n",
              "      <th>count_1</th>\n",
              "      <th>rank_1</th>\n",
              "      <th>course_rec_2</th>\n",
              "      <th>count_2</th>\n",
              "      <th>rank_2</th>\n",
              "    </tr>\n",
              "  </thead>\n",
              "  <tbody>\n",
              "    <tr>\n",
              "      <th>0</th>\n",
              "      <td>551</td>\n",
              "      <td>566</td>\n",
              "      <td>797</td>\n",
              "      <td>1</td>\n",
              "      <td>515</td>\n",
              "      <td>417</td>\n",
              "      <td>2</td>\n",
              "    </tr>\n",
              "    <tr>\n",
              "      <th>1</th>\n",
              "      <td>515</td>\n",
              "      <td>551</td>\n",
              "      <td>417</td>\n",
              "      <td>1</td>\n",
              "      <td>489</td>\n",
              "      <td>286</td>\n",
              "      <td>2</td>\n",
              "    </tr>\n",
              "    <tr>\n",
              "      <th>2</th>\n",
              "      <td>489</td>\n",
              "      <td>551</td>\n",
              "      <td>311</td>\n",
              "      <td>1</td>\n",
              "      <td>515</td>\n",
              "      <td>286</td>\n",
              "      <td>2</td>\n",
              "    </tr>\n",
              "    <tr>\n",
              "      <th>3</th>\n",
              "      <td>523</td>\n",
              "      <td>551</td>\n",
              "      <td>304</td>\n",
              "      <td>1</td>\n",
              "      <td>515</td>\n",
              "      <td>213</td>\n",
              "      <td>2</td>\n",
              "    </tr>\n",
              "    <tr>\n",
              "      <th>4</th>\n",
              "      <td>490</td>\n",
              "      <td>566</td>\n",
              "      <td>253</td>\n",
              "      <td>1</td>\n",
              "      <td>551</td>\n",
              "      <td>247</td>\n",
              "      <td>2</td>\n",
              "    </tr>\n",
              "    <tr>\n",
              "      <th>...</th>\n",
              "      <td>...</td>\n",
              "      <td>...</td>\n",
              "      <td>...</td>\n",
              "      <td>...</td>\n",
              "      <td>...</td>\n",
              "      <td>...</td>\n",
              "      <td>...</td>\n",
              "    </tr>\n",
              "    <tr>\n",
              "      <th>121</th>\n",
              "      <td>833</td>\n",
              "      <td>507</td>\n",
              "      <td>2</td>\n",
              "      <td>1</td>\n",
              "      <td>570</td>\n",
              "      <td>2</td>\n",
              "      <td>2</td>\n",
              "    </tr>\n",
              "    <tr>\n",
              "      <th>122</th>\n",
              "      <td>1201</td>\n",
              "      <td>571</td>\n",
              "      <td>1</td>\n",
              "      <td>1</td>\n",
              "      <td>1144</td>\n",
              "      <td>1</td>\n",
              "      <td>2</td>\n",
              "    </tr>\n",
              "    <tr>\n",
              "      <th>123</th>\n",
              "      <td>1182</td>\n",
              "      <td>553</td>\n",
              "      <td>1</td>\n",
              "      <td>1</td>\n",
              "      <td>1103</td>\n",
              "      <td>1</td>\n",
              "      <td>2</td>\n",
              "    </tr>\n",
              "    <tr>\n",
              "      <th>124</th>\n",
              "      <td>902</td>\n",
              "      <td>519</td>\n",
              "      <td>1</td>\n",
              "      <td>1</td>\n",
              "      <td>777</td>\n",
              "      <td>1</td>\n",
              "      <td>2</td>\n",
              "    </tr>\n",
              "    <tr>\n",
              "      <th>125</th>\n",
              "      <td>1200</td>\n",
              "      <td>866</td>\n",
              "      <td>1</td>\n",
              "      <td>1</td>\n",
              "      <td>1104</td>\n",
              "      <td>1</td>\n",
              "      <td>2</td>\n",
              "    </tr>\n",
              "  </tbody>\n",
              "</table>\n",
              "<p>126 rows × 7 columns</p>\n",
              "</div>"
            ],
            "text/plain": [
              "     course  course_rec_1  count_1  rank_1  course_rec_2  count_2  rank_2\n",
              "0       551           566      797       1           515      417       2\n",
              "1       515           551      417       1           489      286       2\n",
              "2       489           551      311       1           515      286       2\n",
              "3       523           551      304       1           515      213       2\n",
              "4       490           566      253       1           551      247       2\n",
              "..      ...           ...      ...     ...           ...      ...     ...\n",
              "121     833           507        2       1           570        2       2\n",
              "122    1201           571        1       1          1144        1       2\n",
              "123    1182           553        1       1          1103        1       2\n",
              "124     902           519        1       1           777        1       2\n",
              "125    1200           866        1       1          1104        1       2\n",
              "\n",
              "[126 rows x 7 columns]"
            ]
          },
          "execution_count": 31,
          "metadata": {},
          "output_type": "execute_result"
        }
      ],
      "source": [
        "df_rec"
      ]
    },
    {
      "cell_type": "code",
      "execution_count": null,
      "metadata": {
        "id": "H79GkP_itOOr",
        "outputId": "857b90a3-06dd-4cce-d820-7d1867298dd1"
      },
      "outputs": [
        {
          "data": {
            "text/html": [
              "<div>\n",
              "<style scoped>\n",
              "    .dataframe tbody tr th:only-of-type {\n",
              "        vertical-align: middle;\n",
              "    }\n",
              "\n",
              "    .dataframe tbody tr th {\n",
              "        vertical-align: top;\n",
              "    }\n",
              "\n",
              "    .dataframe thead th {\n",
              "        text-align: right;\n",
              "    }\n",
              "</style>\n",
              "<table border=\"1\" class=\"dataframe\">\n",
              "  <thead>\n",
              "    <tr style=\"text-align: right;\">\n",
              "      <th></th>\n",
              "      <th>course</th>\n",
              "      <th>course_rec_1</th>\n",
              "      <th>count_1</th>\n",
              "      <th>rank_1</th>\n",
              "      <th>course_rec_2</th>\n",
              "      <th>count_2</th>\n",
              "      <th>rank_2</th>\n",
              "    </tr>\n",
              "  </thead>\n",
              "  <tbody>\n",
              "    <tr>\n",
              "      <th>0</th>\n",
              "      <td>551</td>\n",
              "      <td>566</td>\n",
              "      <td>797</td>\n",
              "      <td>1</td>\n",
              "      <td>515</td>\n",
              "      <td>417</td>\n",
              "      <td>2</td>\n",
              "    </tr>\n",
              "    <tr>\n",
              "      <th>1</th>\n",
              "      <td>515</td>\n",
              "      <td>551</td>\n",
              "      <td>417</td>\n",
              "      <td>1</td>\n",
              "      <td>489</td>\n",
              "      <td>286</td>\n",
              "      <td>2</td>\n",
              "    </tr>\n",
              "    <tr>\n",
              "      <th>2</th>\n",
              "      <td>489</td>\n",
              "      <td>551</td>\n",
              "      <td>311</td>\n",
              "      <td>1</td>\n",
              "      <td>515</td>\n",
              "      <td>286</td>\n",
              "      <td>2</td>\n",
              "    </tr>\n",
              "    <tr>\n",
              "      <th>3</th>\n",
              "      <td>523</td>\n",
              "      <td>551</td>\n",
              "      <td>304</td>\n",
              "      <td>1</td>\n",
              "      <td>515</td>\n",
              "      <td>213</td>\n",
              "      <td>2</td>\n",
              "    </tr>\n",
              "    <tr>\n",
              "      <th>4</th>\n",
              "      <td>490</td>\n",
              "      <td>566</td>\n",
              "      <td>253</td>\n",
              "      <td>1</td>\n",
              "      <td>551</td>\n",
              "      <td>247</td>\n",
              "      <td>2</td>\n",
              "    </tr>\n",
              "    <tr>\n",
              "      <th>...</th>\n",
              "      <td>...</td>\n",
              "      <td>...</td>\n",
              "      <td>...</td>\n",
              "      <td>...</td>\n",
              "      <td>...</td>\n",
              "      <td>...</td>\n",
              "      <td>...</td>\n",
              "    </tr>\n",
              "    <tr>\n",
              "      <th>121</th>\n",
              "      <td>833</td>\n",
              "      <td>551</td>\n",
              "      <td>2</td>\n",
              "      <td>1</td>\n",
              "      <td>566</td>\n",
              "      <td>2</td>\n",
              "      <td>2</td>\n",
              "    </tr>\n",
              "    <tr>\n",
              "      <th>122</th>\n",
              "      <td>1201</td>\n",
              "      <td>551</td>\n",
              "      <td>1</td>\n",
              "      <td>1</td>\n",
              "      <td>566</td>\n",
              "      <td>1</td>\n",
              "      <td>2</td>\n",
              "    </tr>\n",
              "    <tr>\n",
              "      <th>123</th>\n",
              "      <td>1182</td>\n",
              "      <td>551</td>\n",
              "      <td>1</td>\n",
              "      <td>1</td>\n",
              "      <td>566</td>\n",
              "      <td>1</td>\n",
              "      <td>2</td>\n",
              "    </tr>\n",
              "    <tr>\n",
              "      <th>124</th>\n",
              "      <td>902</td>\n",
              "      <td>551</td>\n",
              "      <td>1</td>\n",
              "      <td>1</td>\n",
              "      <td>566</td>\n",
              "      <td>1</td>\n",
              "      <td>2</td>\n",
              "    </tr>\n",
              "    <tr>\n",
              "      <th>125</th>\n",
              "      <td>1200</td>\n",
              "      <td>551</td>\n",
              "      <td>1</td>\n",
              "      <td>1</td>\n",
              "      <td>566</td>\n",
              "      <td>1</td>\n",
              "      <td>2</td>\n",
              "    </tr>\n",
              "  </tbody>\n",
              "</table>\n",
              "<p>126 rows × 7 columns</p>\n",
              "</div>"
            ],
            "text/plain": [
              "     course  course_rec_1  count_1  rank_1  course_rec_2  count_2  rank_2\n",
              "0       551           566      797       1           515      417       2\n",
              "1       515           551      417       1           489      286       2\n",
              "2       489           551      311       1           515      286       2\n",
              "3       523           551      304       1           515      213       2\n",
              "4       490           566      253       1           551      247       2\n",
              "..      ...           ...      ...     ...           ...      ...     ...\n",
              "121     833           551        2       1           566        2       2\n",
              "122    1201           551        1       1           566        1       2\n",
              "123    1182           551        1       1           566        1       2\n",
              "124     902           551        1       1           566        1       2\n",
              "125    1200           551        1       1           566        1       2\n",
              "\n",
              "[126 rows x 7 columns]"
            ]
          },
          "execution_count": 32,
          "metadata": {},
          "output_type": "execute_result"
        }
      ],
      "source": [
        "df_rec.loc[df_rec['count_1'] < 14, 'course_rec_1'] = 551\n",
        "df_rec.loc[df_rec['count_2'] < 14, 'course_rec_2'] = 566\n",
        "df_rec"
      ]
    },
    {
      "cell_type": "markdown",
      "metadata": {
        "id": "yaJdrbvstOOs"
      },
      "source": [
        "Удалим вспомогательные столбцы и приведем таблицу к окончательному виду."
      ]
    },
    {
      "cell_type": "code",
      "execution_count": null,
      "metadata": {
        "scrolled": true,
        "id": "iLHi2qZStOOs",
        "outputId": "f0b21180-f0d9-406b-d422-de47d8a694dc"
      },
      "outputs": [
        {
          "data": {
            "text/html": [
              "<div>\n",
              "<style scoped>\n",
              "    .dataframe tbody tr th:only-of-type {\n",
              "        vertical-align: middle;\n",
              "    }\n",
              "\n",
              "    .dataframe tbody tr th {\n",
              "        vertical-align: top;\n",
              "    }\n",
              "\n",
              "    .dataframe thead th {\n",
              "        text-align: right;\n",
              "    }\n",
              "</style>\n",
              "<table border=\"1\" class=\"dataframe\">\n",
              "  <thead>\n",
              "    <tr style=\"text-align: right;\">\n",
              "      <th></th>\n",
              "      <th>course</th>\n",
              "      <th>course_rec_1</th>\n",
              "      <th>course_rec_2</th>\n",
              "    </tr>\n",
              "  </thead>\n",
              "  <tbody>\n",
              "    <tr>\n",
              "      <th>0</th>\n",
              "      <td>551</td>\n",
              "      <td>566</td>\n",
              "      <td>515</td>\n",
              "    </tr>\n",
              "    <tr>\n",
              "      <th>1</th>\n",
              "      <td>515</td>\n",
              "      <td>551</td>\n",
              "      <td>489</td>\n",
              "    </tr>\n",
              "    <tr>\n",
              "      <th>2</th>\n",
              "      <td>489</td>\n",
              "      <td>551</td>\n",
              "      <td>515</td>\n",
              "    </tr>\n",
              "    <tr>\n",
              "      <th>3</th>\n",
              "      <td>523</td>\n",
              "      <td>551</td>\n",
              "      <td>515</td>\n",
              "    </tr>\n",
              "    <tr>\n",
              "      <th>4</th>\n",
              "      <td>490</td>\n",
              "      <td>566</td>\n",
              "      <td>551</td>\n",
              "    </tr>\n",
              "    <tr>\n",
              "      <th>...</th>\n",
              "      <td>...</td>\n",
              "      <td>...</td>\n",
              "      <td>...</td>\n",
              "    </tr>\n",
              "    <tr>\n",
              "      <th>121</th>\n",
              "      <td>833</td>\n",
              "      <td>551</td>\n",
              "      <td>566</td>\n",
              "    </tr>\n",
              "    <tr>\n",
              "      <th>122</th>\n",
              "      <td>1201</td>\n",
              "      <td>551</td>\n",
              "      <td>566</td>\n",
              "    </tr>\n",
              "    <tr>\n",
              "      <th>123</th>\n",
              "      <td>1182</td>\n",
              "      <td>551</td>\n",
              "      <td>566</td>\n",
              "    </tr>\n",
              "    <tr>\n",
              "      <th>124</th>\n",
              "      <td>902</td>\n",
              "      <td>551</td>\n",
              "      <td>566</td>\n",
              "    </tr>\n",
              "    <tr>\n",
              "      <th>125</th>\n",
              "      <td>1200</td>\n",
              "      <td>551</td>\n",
              "      <td>566</td>\n",
              "    </tr>\n",
              "  </tbody>\n",
              "</table>\n",
              "<p>126 rows × 3 columns</p>\n",
              "</div>"
            ],
            "text/plain": [
              "     course  course_rec_1  course_rec_2\n",
              "0       551           566           515\n",
              "1       515           551           489\n",
              "2       489           551           515\n",
              "3       523           551           515\n",
              "4       490           566           551\n",
              "..      ...           ...           ...\n",
              "121     833           551           566\n",
              "122    1201           551           566\n",
              "123    1182           551           566\n",
              "124     902           551           566\n",
              "125    1200           551           566\n",
              "\n",
              "[126 rows x 3 columns]"
            ]
          },
          "execution_count": 33,
          "metadata": {},
          "output_type": "execute_result"
        }
      ],
      "source": [
        "df_rec.drop(['count_1', 'rank_1', 'count_2', 'rank_2'], axis=1, inplace=True)\n",
        "df_rec"
      ]
    },
    {
      "cell_type": "markdown",
      "metadata": {
        "id": "KJpbN1_YtOOt"
      },
      "source": [
        "## Выводы"
      ]
    },
    {
      "cell_type": "markdown",
      "metadata": {
        "id": "ca-eKVKZtOOt"
      },
      "source": [
        "Исходя из таблиц `carts` с данными о пользовательских корзинах и `cart items` с данными о курсах, добавленных в корзину, подготовлена таблица с необходимыми для решения поставленных задач параметрами. Определены наиболее популярные пары курсов, которые покупаются совместно. Исходя из частотностей совместных покупок сформирована итоговую таблицу с рекомендациями, в которой каждому курсу ставится в соответствие два дополнительных курса для рекомендации к совместному приобретению."
      ]
    }
  ],
  "metadata": {
    "kernelspec": {
      "display_name": "Python 3 (ipykernel)",
      "language": "python",
      "name": "python3"
    },
    "language_info": {
      "codemirror_mode": {
        "name": "ipython",
        "version": 3
      },
      "file_extension": ".py",
      "mimetype": "text/x-python",
      "name": "python",
      "nbconvert_exporter": "python",
      "pygments_lexer": "ipython3",
      "version": "3.8.5"
    },
    "toc": {
      "base_numbering": 1,
      "nav_menu": {},
      "number_sections": true,
      "sideBar": true,
      "skip_h1_title": false,
      "title_cell": "Table of Contents",
      "title_sidebar": "Contents",
      "toc_cell": false,
      "toc_position": {},
      "toc_section_display": true,
      "toc_window_display": false
    },
    "vscode": {
      "interpreter": {
        "hash": "79114049e43ca61367d090a5be52959e83dfb074a2ad85da3bbc3d4e8bc4e5e9"
      }
    },
    "colab": {
      "provenance": [],
      "include_colab_link": true
    }
  },
  "nbformat": 4,
  "nbformat_minor": 0
}